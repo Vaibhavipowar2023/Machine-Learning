{
 "cells": [
  {
   "cell_type": "code",
   "execution_count": 10,
   "id": "8e6c189d",
   "metadata": {},
   "outputs": [],
   "source": [
    "import numpy as np\n",
    "import pandas as pd\n",
    "import statsmodels.api as sm\n",
    "import matplotlib.pyplot as plt"
   ]
  },
  {
   "cell_type": "code",
   "execution_count": 11,
   "id": "dd2a9e12",
   "metadata": {},
   "outputs": [],
   "source": [
    "\n",
    "np.random.seed(0)\n",
    "n = 100  # Number of observations"
   ]
  },
  {
   "cell_type": "code",
   "execution_count": 12,
   "id": "7dd5335a",
   "metadata": {},
   "outputs": [],
   "source": [
    "#Generate age an years until retirenment\n",
    "age = np.random.normal(40, 5, n)\n",
    "years_until_retirement = 60 - age  # years until retirement is 60 - age\n"
   ]
  },
  {
   "cell_type": "code",
   "execution_count": 13,
   "id": "8bf82cf5",
   "metadata": {},
   "outputs": [],
   "source": [
    "# Generate salary based on age, years until retirement, and random noise\n",
    "salary = 3000 + 200 * age - 400 * years_until_retirement + np.random.normal(0, 1000, n)\n"
   ]
  },
  {
   "cell_type": "code",
   "execution_count": 14,
   "id": "0f4e17cd",
   "metadata": {},
   "outputs": [],
   "source": [
    "# Create a DataFrame\n",
    "data = pd.DataFrame({\n",
    "    'Age': age,\n",
    "    'Years_until_Retirement': years_until_retirement,\n",
    "    'Salary': salary\n",
    "})"
   ]
  },
  {
   "cell_type": "code",
   "execution_count": 15,
   "id": "d61baa31",
   "metadata": {},
   "outputs": [
    {
     "data": {
      "text/html": [
       "<div>\n",
       "<style scoped>\n",
       "    .dataframe tbody tr th:only-of-type {\n",
       "        vertical-align: middle;\n",
       "    }\n",
       "\n",
       "    .dataframe tbody tr th {\n",
       "        vertical-align: top;\n",
       "    }\n",
       "\n",
       "    .dataframe thead th {\n",
       "        text-align: right;\n",
       "    }\n",
       "</style>\n",
       "<table border=\"1\" class=\"dataframe\">\n",
       "  <thead>\n",
       "    <tr style=\"text-align: right;\">\n",
       "      <th></th>\n",
       "      <th>Age</th>\n",
       "      <th>Years_until_Retirement</th>\n",
       "      <th>Salary</th>\n",
       "    </tr>\n",
       "  </thead>\n",
       "  <tbody>\n",
       "    <tr>\n",
       "      <th>0</th>\n",
       "      <td>48.820262</td>\n",
       "      <td>11.179738</td>\n",
       "      <td>10175.307735</td>\n",
       "    </tr>\n",
       "    <tr>\n",
       "      <th>1</th>\n",
       "      <td>42.000786</td>\n",
       "      <td>17.999214</td>\n",
       "      <td>2852.712564</td>\n",
       "    </tr>\n",
       "    <tr>\n",
       "      <th>2</th>\n",
       "      <td>44.893690</td>\n",
       "      <td>15.106310</td>\n",
       "      <td>4665.728954</td>\n",
       "    </tr>\n",
       "    <tr>\n",
       "      <th>3</th>\n",
       "      <td>51.204466</td>\n",
       "      <td>8.795534</td>\n",
       "      <td>10692.076306</td>\n",
       "    </tr>\n",
       "    <tr>\n",
       "      <th>4</th>\n",
       "      <td>49.337790</td>\n",
       "      <td>10.662210</td>\n",
       "      <td>7429.550565</td>\n",
       "    </tr>\n",
       "    <tr>\n",
       "      <th>...</th>\n",
       "      <td>...</td>\n",
       "      <td>...</td>\n",
       "      <td>...</td>\n",
       "    </tr>\n",
       "    <tr>\n",
       "      <th>95</th>\n",
       "      <td>43.532866</td>\n",
       "      <td>16.467134</td>\n",
       "      <td>4948.173173</td>\n",
       "    </tr>\n",
       "    <tr>\n",
       "      <th>96</th>\n",
       "      <td>40.052500</td>\n",
       "      <td>19.947500</td>\n",
       "      <td>3803.290613</td>\n",
       "    </tr>\n",
       "    <tr>\n",
       "      <th>97</th>\n",
       "      <td>48.929352</td>\n",
       "      <td>11.070648</td>\n",
       "      <td>9181.115636</td>\n",
       "    </tr>\n",
       "    <tr>\n",
       "      <th>98</th>\n",
       "      <td>40.634560</td>\n",
       "      <td>19.365440</td>\n",
       "      <td>5543.972227</td>\n",
       "    </tr>\n",
       "    <tr>\n",
       "      <th>99</th>\n",
       "      <td>42.009947</td>\n",
       "      <td>17.990053</td>\n",
       "      <td>5542.496040</td>\n",
       "    </tr>\n",
       "  </tbody>\n",
       "</table>\n",
       "<p>100 rows × 3 columns</p>\n",
       "</div>"
      ],
      "text/plain": [
       "          Age  Years_until_Retirement        Salary\n",
       "0   48.820262               11.179738  10175.307735\n",
       "1   42.000786               17.999214   2852.712564\n",
       "2   44.893690               15.106310   4665.728954\n",
       "3   51.204466                8.795534  10692.076306\n",
       "4   49.337790               10.662210   7429.550565\n",
       "..        ...                     ...           ...\n",
       "95  43.532866               16.467134   4948.173173\n",
       "96  40.052500               19.947500   3803.290613\n",
       "97  48.929352               11.070648   9181.115636\n",
       "98  40.634560               19.365440   5543.972227\n",
       "99  42.009947               17.990053   5542.496040\n",
       "\n",
       "[100 rows x 3 columns]"
      ]
     },
     "execution_count": 15,
     "metadata": {},
     "output_type": "execute_result"
    }
   ],
   "source": [
    "data"
   ]
  },
  {
   "cell_type": "code",
   "execution_count": 21,
   "id": "305f061a",
   "metadata": {},
   "outputs": [
    {
     "data": {
      "text/html": [
       "<div>\n",
       "<style scoped>\n",
       "    .dataframe tbody tr th:only-of-type {\n",
       "        vertical-align: middle;\n",
       "    }\n",
       "\n",
       "    .dataframe tbody tr th {\n",
       "        vertical-align: top;\n",
       "    }\n",
       "\n",
       "    .dataframe thead th {\n",
       "        text-align: right;\n",
       "    }\n",
       "</style>\n",
       "<table border=\"1\" class=\"dataframe\">\n",
       "  <thead>\n",
       "    <tr style=\"text-align: right;\">\n",
       "      <th></th>\n",
       "      <th>Age</th>\n",
       "      <th>Years_until_Retirement</th>\n",
       "    </tr>\n",
       "  </thead>\n",
       "  <tbody>\n",
       "    <tr>\n",
       "      <th>0</th>\n",
       "      <td>48.820262</td>\n",
       "      <td>11.179738</td>\n",
       "    </tr>\n",
       "    <tr>\n",
       "      <th>1</th>\n",
       "      <td>42.000786</td>\n",
       "      <td>17.999214</td>\n",
       "    </tr>\n",
       "    <tr>\n",
       "      <th>2</th>\n",
       "      <td>44.893690</td>\n",
       "      <td>15.106310</td>\n",
       "    </tr>\n",
       "    <tr>\n",
       "      <th>3</th>\n",
       "      <td>51.204466</td>\n",
       "      <td>8.795534</td>\n",
       "    </tr>\n",
       "    <tr>\n",
       "      <th>4</th>\n",
       "      <td>49.337790</td>\n",
       "      <td>10.662210</td>\n",
       "    </tr>\n",
       "    <tr>\n",
       "      <th>...</th>\n",
       "      <td>...</td>\n",
       "      <td>...</td>\n",
       "    </tr>\n",
       "    <tr>\n",
       "      <th>95</th>\n",
       "      <td>43.532866</td>\n",
       "      <td>16.467134</td>\n",
       "    </tr>\n",
       "    <tr>\n",
       "      <th>96</th>\n",
       "      <td>40.052500</td>\n",
       "      <td>19.947500</td>\n",
       "    </tr>\n",
       "    <tr>\n",
       "      <th>97</th>\n",
       "      <td>48.929352</td>\n",
       "      <td>11.070648</td>\n",
       "    </tr>\n",
       "    <tr>\n",
       "      <th>98</th>\n",
       "      <td>40.634560</td>\n",
       "      <td>19.365440</td>\n",
       "    </tr>\n",
       "    <tr>\n",
       "      <th>99</th>\n",
       "      <td>42.009947</td>\n",
       "      <td>17.990053</td>\n",
       "    </tr>\n",
       "  </tbody>\n",
       "</table>\n",
       "<p>100 rows × 2 columns</p>\n",
       "</div>"
      ],
      "text/plain": [
       "          Age  Years_until_Retirement\n",
       "0   48.820262               11.179738\n",
       "1   42.000786               17.999214\n",
       "2   44.893690               15.106310\n",
       "3   51.204466                8.795534\n",
       "4   49.337790               10.662210\n",
       "..        ...                     ...\n",
       "95  43.532866               16.467134\n",
       "96  40.052500               19.947500\n",
       "97  48.929352               11.070648\n",
       "98  40.634560               19.365440\n",
       "99  42.009947               17.990053\n",
       "\n",
       "[100 rows x 2 columns]"
      ]
     },
     "execution_count": 21,
     "metadata": {},
     "output_type": "execute_result"
    }
   ],
   "source": [
    "#fit a multiplt linear regression model\n",
    "X = data[['Age', 'Years_until_Retirement']]\n",
    "X"
   ]
  },
  {
   "cell_type": "code",
   "execution_count": 23,
   "id": "5cd7f7bf",
   "metadata": {},
   "outputs": [
    {
     "data": {
      "text/plain": [
       "0     10175.307735\n",
       "1      2852.712564\n",
       "2      4665.728954\n",
       "3     10692.076306\n",
       "4      7429.550565\n",
       "          ...     \n",
       "95     4948.173173\n",
       "96     3803.290613\n",
       "97     9181.115636\n",
       "98     5543.972227\n",
       "99     5542.496040\n",
       "Name: Salary, Length: 100, dtype: float64"
      ]
     },
     "execution_count": 23,
     "metadata": {},
     "output_type": "execute_result"
    }
   ],
   "source": [
    "y = data['Salary']\n",
    "y"
   ]
  },
  {
   "cell_type": "code",
   "execution_count": 32,
   "id": "caa195a7",
   "metadata": {},
   "outputs": [
    {
     "data": {
      "text/plain": [
       "<statsmodels.regression.linear_model.RegressionResultsWrapper at 0x1c8f1341f70>"
      ]
     },
     "execution_count": 32,
     "metadata": {},
     "output_type": "execute_result"
    }
   ],
   "source": [
    "#fit the regression model\n",
    "model = sm.OLS(y,X).fit()\n",
    "model"
   ]
  },
  {
   "cell_type": "code",
   "execution_count": 34,
   "id": "15feca4e",
   "metadata": {},
   "outputs": [
    {
     "name": "stdout",
     "output_type": "stream",
     "text": [
      "                            OLS Regression Results                            \n",
      "==============================================================================\n",
      "Dep. Variable:                 Salary   R-squared:                       0.903\n",
      "Model:                            OLS   Adj. R-squared:                  0.902\n",
      "Method:                 Least Squares   F-statistic:                     913.5\n",
      "Date:                Thu, 22 Aug 2024   Prob (F-statistic):           1.79e-51\n",
      "Time:                        13:45:59   Log-Likelihood:                -835.45\n",
      "No. Observations:                 100   AIC:                             1675.\n",
      "Df Residuals:                      98   BIC:                             1680.\n",
      "Df Model:                           1                                         \n",
      "Covariance Type:            nonrobust                                         \n",
      "==========================================================================================\n",
      "                             coef    std err          t      P>|t|      [0.025      0.975]\n",
      "------------------------------------------------------------------------------------------\n",
      "Age                      258.8991      6.985     37.064      0.000     245.037     272.761\n",
      "Years_until_Retirement  -364.0406     13.951    -26.095      0.000    -391.725    -336.356\n",
      "==============================================================================\n",
      "Omnibus:                        5.184   Durbin-Watson:                   1.995\n",
      "Prob(Omnibus):                  0.075   Jarque-Bera (JB):                3.000\n",
      "Skew:                           0.210   Prob(JB):                        0.223\n",
      "Kurtosis:                       2.262   Cond. No.                         6.67\n",
      "==============================================================================\n",
      "\n",
      "Notes:\n",
      "[1] Standard Errors assume that the covariance matrix of the errors is correctly specified.\n"
     ]
    }
   ],
   "source": [
    "#print the model summary\n",
    "print(model.summary())"
   ]
  },
  {
   "cell_type": "code",
   "execution_count": 39,
   "id": "c40d35f9",
   "metadata": {},
   "outputs": [
    {
     "data": {
      "image/png": "[encoded data removed]",
      "text/plain": [
       "<Figure size 720x360 with 2 Axes>"
      ]
     },
     "metadata": {
      "needs_background": "light"
     },
     "output_type": "display_data"
    }
   ],
   "source": [
    "# Scatter plot to visualize negative multicollinearity\n",
    "plt.figure(figsize=(10, 5))\n",
    "\n",
    "# Plot Age vs. Years_until_Retirement\n",
    "plt.subplot(1, 2, 1)\n",
    "plt.scatter(age, years_until_retirement, color='b', alpha=0.8)\n",
    "plt.xlabel('Age')\n",
    "plt.ylabel('Years_until_Retirement')\n",
    "plt.title('Scatter Plot: Age vs Years Until Retirement')\n",
    "\n",
    "\n",
    "# Plot Age vs. Salary\n",
    "plt.subplot(1, 2, 2)\n",
    "plt.scatter(age, salary, color='g', alpha=0.6)\n",
    "plt.xlabel('Age')\n",
    "plt.ylabel('Salary')\n",
    "plt.title('Scatter Plot: Age vs Salary')\n",
    "\n",
    "plt.tight_layout()\n",
    "plt.show()\n"
   ]
  },
  {
   "cell_type": "code",
   "execution_count": 41,
   "id": "8d2b6748",
   "metadata": {},
   "outputs": [
    {
     "data": {
      "image/png": "[encoded data removed]",
      "text/plain": [
       "<Figure size 540x540 with 12 Axes>"
      ]
     },
     "metadata": {
      "needs_background": "light"
     },
     "output_type": "display_data"
    }
   ],
   "source": [
    "import seaborn as sns\n",
    "\n",
    "# Pairplot for visualization\n",
    "sns.pairplot(data[['Age', 'Years_until_Retirement', 'Salary']])\n",
    "plt.show()"
   ]
  },
  {
   "cell_type": "code",
   "execution_count": null,
   "id": "0a720172",
   "metadata": {},
   "outputs": [],
   "source": []
  }
 ],
 "metadata": {
  "kernelspec": {
   "display_name": "Python 3 (ipykernel)",
   "language": "python",
   "name": "python3"
  },
  "language_info": {
   "codemirror_mode": {
    "name": "ipython",
    "version": 3
   },
   "file_extension": ".py",
   "mimetype": "text/x-python",
   "name": "python",
   "nbconvert_exporter": "python",
   "pygments_lexer": "ipython3",
   "version": "3.9.7"
  }
 },
 "nbformat": 4,
 "nbformat_minor": 5
}
