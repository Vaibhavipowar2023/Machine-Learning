{
 "cells": [
  {
   "cell_type": "code",
   "execution_count": 2,
   "id": "f63ac8d5",
   "metadata": {},
   "outputs": [],
   "source": [
    "import numpy as np\n",
    "import pandas as pd\n",
    "import statsmodels.api as sm\n"
   ]
  },
  {
   "cell_type": "code",
   "execution_count": 3,
   "id": "e2bba9f5",
   "metadata": {},
   "outputs": [],
   "source": [
    "# Generate synthetic data\n",
    "np.random.seed(0)\n",
    "n = 100  # Number of observations\n",
    "\n",
    "# Generate age and tenure (years of experience) with positive correlation\n"
   ]
  },
  {
   "cell_type": "code",
   "execution_count": 12,
   "id": "a7d4a501",
   "metadata": {},
   "outputs": [
    {
     "data": {
      "text/plain": [
       "array([41.91366215, 39.8287886 , 45.48173423, 38.82892099, 38.26274674,\n",
       "       37.09365762, 31.83682737, 32.16116138, 34.10421035, 46.50714036,\n",
       "       44.47630136, 46.87482033, 33.33894173, 30.15687655, 36.6997184 ,\n",
       "       40.87909477, 42.49345137, 45.23986078, 41.42139835, 48.7133439 ,\n",
       "       38.8869716 , 35.43460391, 31.59390892, 35.55514321, 41.2105898 ,\n",
       "       35.55639871, 44.68371232, 47.06163853, 28.15206547, 44.3202615 ,\n",
       "       28.80197971, 42.00749528, 46.12435282, 40.32428053, 33.60155413,\n",
       "       37.07284398, 38.69177277, 39.08877608, 38.9855158 , 39.4505861 ,\n",
       "       41.06740024, 33.95713173, 38.78990085, 47.59130585, 38.07677288,\n",
       "       37.78081953, 45.39098652, 27.20407667, 45.90689301, 36.84048121,\n",
       "       40.81964286, 40.48160678, 44.7123406 , 38.66202627, 36.60987109,\n",
       "       46.48922895, 28.17913091, 40.10167091, 33.26037289, 36.19213306,\n",
       "       50.05628341, 39.77702287, 40.97534849, 31.09218572, 36.35477671,\n",
       "       40.982787  , 41.77378847, 43.08443277, 40.04313949, 42.63502104,\n",
       "       42.26890956, 30.85129794, 40.18502861, 43.83951204, 42.9493991 ,\n",
       "       38.18070595, 35.97186746, 34.40844038, 39.34472994, 45.6653994 ,\n",
       "       30.24097949, 36.70054135, 34.30098772, 43.92478761, 37.22845187,\n",
       "       37.64681171, 38.91525215, 42.22696625, 38.03805501, 24.76928473,\n",
       "       42.71655946, 42.19521479, 38.90229486, 34.5798169 , 41.75890055,\n",
       "       41.89617767, 37.64983559, 38.91634265, 35.34921749, 39.10705454])"
      ]
     },
     "execution_count": 12,
     "metadata": {},
     "output_type": "execute_result"
    }
   ],
   "source": [
    "age = np.random.normal(40, 5, n)\n",
    "age\n",
    "\n",
    "\n"
   ]
  },
  {
   "cell_type": "code",
   "execution_count": 13,
   "id": "39eab618",
   "metadata": {},
   "outputs": [
    {
     "data": {
      "text/plain": [
       "array([38.81280346, 40.66342624, 43.59299725, 39.30512729, 35.4508209 ,\n",
       "       35.91354232, 31.61584856, 28.83976175, 34.33450609, 45.74884523,\n",
       "       40.99158897, 44.26833482, 34.5491819 , 31.94798852, 36.43590112,\n",
       "       41.68861839, 42.9411385 , 45.89910674, 43.99336637, 45.69934711,\n",
       "       40.23989306, 34.670586  , 31.14539105, 34.95064375, 40.46029557,\n",
       "       33.10400633, 45.05039072, 50.4035246 , 28.03979943, 44.31749142,\n",
       "       27.42738163, 41.77254618, 47.05668567, 39.58379565, 32.69394605,\n",
       "       37.87937306, 36.85576323, 39.59376934, 40.62615939, 42.17048319,\n",
       "       40.88663623, 36.69232621, 40.85872062, 45.59888057, 35.64089586,\n",
       "       37.17089226, 47.4488575 , 27.05950265, 44.70557789, 39.94496757,\n",
       "       41.39345184, 35.84041823, 45.34666185, 39.7021075 , 37.0610884 ,\n",
       "       47.38865315, 28.0445797 , 37.46487917, 32.51896488, 34.30090147,\n",
       "       48.19080159, 37.25088617, 41.88032667, 31.28797801, 35.45844598,\n",
       "       39.68411115, 41.72694226, 45.24282223, 36.03470806, 43.38877408,\n",
       "       41.17748562, 27.08212626, 36.29362244, 42.01394505, 43.38841822,\n",
       "       38.96683182, 34.09390432, 36.44248236, 42.19069694, 46.45757257,\n",
       "       29.05817416, 38.94937972, 35.81177911, 45.65960243, 35.91552452,\n",
       "       31.9777027 , 43.14883419, 39.00520945, 37.96651887, 29.53077543,\n",
       "       43.37771297, 44.09370774, 35.89750172, 31.02448299, 40.69349497,\n",
       "       44.07767714, 36.95733669, 37.32707   , 35.74515207, 41.27092498])"
      ]
     },
     "execution_count": 13,
     "metadata": {},
     "output_type": "execute_result"
    }
   ],
   "source": [
    "tenure = age + np.random.normal(0, 2, n)  # tenure is age + some noise\n",
    "tenure"
   ]
  },
  {
   "cell_type": "code",
   "execution_count": 14,
   "id": "1b1c815a",
   "metadata": {},
   "outputs": [
    {
     "data": {
      "text/plain": [
       "array([25462.9136149 , 26020.58522111, 28744.87648983, 27582.47348894,\n",
       "       25067.69923544, 26916.30186329, 22950.15062307, 20933.04180071,\n",
       "       24819.72234469, 30812.46317742, 27586.97450791, 30762.27284013,\n",
       "       22791.13444962, 21520.17361828, 26242.08682373, 27749.9848233 ,\n",
       "       27872.00428804, 29943.27716217, 29903.41680367, 30469.86694998,\n",
       "       26486.48069619, 23444.86244178, 21960.86370046, 23705.79638097,\n",
       "       25824.40014065, 22465.70133267, 29024.10970851, 33817.0569288 ,\n",
       "       20659.00691007, 30178.3082467 , 19225.99027703, 27294.72598614,\n",
       "       30540.02723175, 25846.49426392, 25295.08963913, 23320.99637093,\n",
       "       26044.66838209, 25370.7106523 , 26943.22342401, 26770.30855292,\n",
       "       26390.50557843, 23328.16052971, 28856.45457332, 30624.82497646,\n",
       "       24106.01072682, 25980.30777433, 31068.08961978, 19984.65015426,\n",
       "       28239.3531018 , 26649.68717449, 28494.00414486, 23770.89035602,\n",
       "       30529.32814312, 28309.42982578, 25131.55187553, 32074.71298916,\n",
       "       20524.22851175, 25298.78015189, 22699.42726412, 22391.79248792,\n",
       "       31836.27427865, 26121.44701632, 28670.3008593 , 21758.24047446,\n",
       "       25174.31746361, 25967.29564705, 27943.83732077, 29733.29483018,\n",
       "       27272.10237103, 28668.34718584, 27425.7595207 , 20024.46131485,\n",
       "       24635.34125433, 28766.23427696, 28580.19189029, 24431.54636923,\n",
       "       23773.34866811, 24141.13792624, 26112.80146052, 30648.97475203,\n",
       "       22160.82152338, 26441.1639067 , 24796.83638298, 28707.30176722,\n",
       "       25288.79854923, 23468.8930027 , 28571.62934571, 27470.10565163,\n",
       "       24434.43782256, 19724.76630502, 28136.52621876, 29026.44195758,\n",
       "       24242.0587326 , 23638.22694134, 26770.20571002, 28111.36423169,\n",
       "       25387.48820032, 24636.99746201, 23943.24102195, 26499.81630098])"
      ]
     },
     "execution_count": 14,
     "metadata": {},
     "output_type": "execute_result"
    }
   ],
   "source": [
    "# Generate salary based on age, tenure, and random noise\n",
    "salary = 3000 + 200 * age + 400 * tenure + np.random.normal(0, 1000, n)\n",
    "\n",
    "salary"
   ]
  },
  {
   "cell_type": "code",
   "execution_count": 15,
   "id": "2db55613",
   "metadata": {},
   "outputs": [
    {
     "data": {
      "text/html": [
       "<div>\n",
       "<style scoped>\n",
       "    .dataframe tbody tr th:only-of-type {\n",
       "        vertical-align: middle;\n",
       "    }\n",
       "\n",
       "    .dataframe tbody tr th {\n",
       "        vertical-align: top;\n",
       "    }\n",
       "\n",
       "    .dataframe thead th {\n",
       "        text-align: right;\n",
       "    }\n",
       "</style>\n",
       "<table border=\"1\" class=\"dataframe\">\n",
       "  <thead>\n",
       "    <tr style=\"text-align: right;\">\n",
       "      <th></th>\n",
       "      <th>Age</th>\n",
       "      <th>Tenure</th>\n",
       "      <th>Salary</th>\n",
       "    </tr>\n",
       "  </thead>\n",
       "  <tbody>\n",
       "    <tr>\n",
       "      <th>0</th>\n",
       "      <td>41.913662</td>\n",
       "      <td>38.812803</td>\n",
       "      <td>25462.913615</td>\n",
       "    </tr>\n",
       "    <tr>\n",
       "      <th>1</th>\n",
       "      <td>39.828789</td>\n",
       "      <td>40.663426</td>\n",
       "      <td>26020.585221</td>\n",
       "    </tr>\n",
       "    <tr>\n",
       "      <th>2</th>\n",
       "      <td>45.481734</td>\n",
       "      <td>43.592997</td>\n",
       "      <td>28744.876490</td>\n",
       "    </tr>\n",
       "    <tr>\n",
       "      <th>3</th>\n",
       "      <td>38.828921</td>\n",
       "      <td>39.305127</td>\n",
       "      <td>27582.473489</td>\n",
       "    </tr>\n",
       "    <tr>\n",
       "      <th>4</th>\n",
       "      <td>38.262747</td>\n",
       "      <td>35.450821</td>\n",
       "      <td>25067.699235</td>\n",
       "    </tr>\n",
       "    <tr>\n",
       "      <th>...</th>\n",
       "      <td>...</td>\n",
       "      <td>...</td>\n",
       "      <td>...</td>\n",
       "    </tr>\n",
       "    <tr>\n",
       "      <th>95</th>\n",
       "      <td>41.896178</td>\n",
       "      <td>44.077677</td>\n",
       "      <td>28111.364232</td>\n",
       "    </tr>\n",
       "    <tr>\n",
       "      <th>96</th>\n",
       "      <td>37.649836</td>\n",
       "      <td>36.957337</td>\n",
       "      <td>25387.488200</td>\n",
       "    </tr>\n",
       "    <tr>\n",
       "      <th>97</th>\n",
       "      <td>38.916343</td>\n",
       "      <td>37.327070</td>\n",
       "      <td>24636.997462</td>\n",
       "    </tr>\n",
       "    <tr>\n",
       "      <th>98</th>\n",
       "      <td>35.349217</td>\n",
       "      <td>35.745152</td>\n",
       "      <td>23943.241022</td>\n",
       "    </tr>\n",
       "    <tr>\n",
       "      <th>99</th>\n",
       "      <td>39.107055</td>\n",
       "      <td>41.270925</td>\n",
       "      <td>26499.816301</td>\n",
       "    </tr>\n",
       "  </tbody>\n",
       "</table>\n",
       "<p>100 rows × 3 columns</p>\n",
       "</div>"
      ],
      "text/plain": [
       "          Age     Tenure        Salary\n",
       "0   41.913662  38.812803  25462.913615\n",
       "1   39.828789  40.663426  26020.585221\n",
       "2   45.481734  43.592997  28744.876490\n",
       "3   38.828921  39.305127  27582.473489\n",
       "4   38.262747  35.450821  25067.699235\n",
       "..        ...        ...           ...\n",
       "95  41.896178  44.077677  28111.364232\n",
       "96  37.649836  36.957337  25387.488200\n",
       "97  38.916343  37.327070  24636.997462\n",
       "98  35.349217  35.745152  23943.241022\n",
       "99  39.107055  41.270925  26499.816301\n",
       "\n",
       "[100 rows x 3 columns]"
      ]
     },
     "execution_count": 15,
     "metadata": {},
     "output_type": "execute_result"
    }
   ],
   "source": [
    "# Create a DataFrame\n",
    "data = pd.DataFrame({\n",
    "    'Age': age,\n",
    "    'Tenure': tenure,\n",
    "    'Salary': salary\n",
    "})\n",
    "data\n"
   ]
  },
  {
   "cell_type": "code",
   "execution_count": 7,
   "id": "9c5f7050",
   "metadata": {},
   "outputs": [],
   "source": [
    "# Fit a multiple linear regression model\n",
    "X = data[['Age', 'Tenure']]\n",
    "y = data['Salary']\n",
    "\n"
   ]
  },
  {
   "cell_type": "code",
   "execution_count": 16,
   "id": "3ca305b5",
   "metadata": {},
   "outputs": [
    {
     "name": "stderr",
     "output_type": "stream",
     "text": [
      "C:\\Users\\suyash\\anaconda3\\lib\\site-packages\\statsmodels\\tsa\\tsatools.py:142: FutureWarning: In a future version of pandas all arguments of concat except for the argument 'objs' will be keyword-only\n",
      "  x = pd.concat(x[::order], 1)\n"
     ]
    },
    {
     "data": {
      "text/html": [
       "<div>\n",
       "<style scoped>\n",
       "    .dataframe tbody tr th:only-of-type {\n",
       "        vertical-align: middle;\n",
       "    }\n",
       "\n",
       "    .dataframe tbody tr th {\n",
       "        vertical-align: top;\n",
       "    }\n",
       "\n",
       "    .dataframe thead th {\n",
       "        text-align: right;\n",
       "    }\n",
       "</style>\n",
       "<table border=\"1\" class=\"dataframe\">\n",
       "  <thead>\n",
       "    <tr style=\"text-align: right;\">\n",
       "      <th></th>\n",
       "      <th>const</th>\n",
       "      <th>Age</th>\n",
       "      <th>Tenure</th>\n",
       "    </tr>\n",
       "  </thead>\n",
       "  <tbody>\n",
       "    <tr>\n",
       "      <th>0</th>\n",
       "      <td>1.0</td>\n",
       "      <td>48.820262</td>\n",
       "      <td>52.586563</td>\n",
       "    </tr>\n",
       "    <tr>\n",
       "      <th>1</th>\n",
       "      <td>1.0</td>\n",
       "      <td>42.000786</td>\n",
       "      <td>39.305268</td>\n",
       "    </tr>\n",
       "    <tr>\n",
       "      <th>2</th>\n",
       "      <td>1.0</td>\n",
       "      <td>44.893690</td>\n",
       "      <td>42.352720</td>\n",
       "    </tr>\n",
       "    <tr>\n",
       "      <th>3</th>\n",
       "      <td>1.0</td>\n",
       "      <td>51.204466</td>\n",
       "      <td>53.143259</td>\n",
       "    </tr>\n",
       "    <tr>\n",
       "      <th>4</th>\n",
       "      <td>1.0</td>\n",
       "      <td>49.337790</td>\n",
       "      <td>46.991543</td>\n",
       "    </tr>\n",
       "    <tr>\n",
       "      <th>...</th>\n",
       "      <td>...</td>\n",
       "      <td>...</td>\n",
       "      <td>...</td>\n",
       "    </tr>\n",
       "    <tr>\n",
       "      <th>95</th>\n",
       "      <td>1.0</td>\n",
       "      <td>43.532866</td>\n",
       "      <td>43.189773</td>\n",
       "    </tr>\n",
       "    <tr>\n",
       "      <th>96</th>\n",
       "      <td>1.0</td>\n",
       "      <td>40.052500</td>\n",
       "      <td>41.596081</td>\n",
       "    </tr>\n",
       "    <tr>\n",
       "      <th>97</th>\n",
       "      <td>1.0</td>\n",
       "      <td>48.929352</td>\n",
       "      <td>50.576361</td>\n",
       "    </tr>\n",
       "    <tr>\n",
       "      <th>98</th>\n",
       "      <td>1.0</td>\n",
       "      <td>40.634560</td>\n",
       "      <td>44.961032</td>\n",
       "    </tr>\n",
       "    <tr>\n",
       "      <th>99</th>\n",
       "      <td>1.0</td>\n",
       "      <td>42.009947</td>\n",
       "      <td>44.683003</td>\n",
       "    </tr>\n",
       "  </tbody>\n",
       "</table>\n",
       "<p>100 rows × 3 columns</p>\n",
       "</div>"
      ],
      "text/plain": [
       "    const        Age     Tenure\n",
       "0     1.0  48.820262  52.586563\n",
       "1     1.0  42.000786  39.305268\n",
       "2     1.0  44.893690  42.352720\n",
       "3     1.0  51.204466  53.143259\n",
       "4     1.0  49.337790  46.991543\n",
       "..    ...        ...        ...\n",
       "95    1.0  43.532866  43.189773\n",
       "96    1.0  40.052500  41.596081\n",
       "97    1.0  48.929352  50.576361\n",
       "98    1.0  40.634560  44.961032\n",
       "99    1.0  42.009947  44.683003\n",
       "\n",
       "[100 rows x 3 columns]"
      ]
     },
     "execution_count": 16,
     "metadata": {},
     "output_type": "execute_result"
    }
   ],
   "source": [
    "\n",
    "# Add a constant term to the independent variables matrix\n",
    "X = sm.add_constant(X)\n",
    "\n",
    "X"
   ]
  },
  {
   "cell_type": "code",
   "execution_count": 17,
   "id": "18df2af5",
   "metadata": {},
   "outputs": [
    {
     "data": {
      "text/plain": [
       "<statsmodels.regression.linear_model.RegressionResultsWrapper at 0x1980ab57df0>"
      ]
     },
     "execution_count": 17,
     "metadata": {},
     "output_type": "execute_result"
    }
   ],
   "source": [
    "# Fit the regression model\n",
    "model = sm.OLS(y, X).fit()\n",
    "model"
   ]
  },
  {
   "cell_type": "code",
   "execution_count": 10,
   "id": "475e2032",
   "metadata": {},
   "outputs": [
    {
     "name": "stdout",
     "output_type": "stream",
     "text": [
      "                            OLS Regression Results                            \n",
      "==============================================================================\n",
      "Dep. Variable:                 Salary   R-squared:                       0.924\n",
      "Model:                            OLS   Adj. R-squared:                  0.922\n",
      "Method:                 Least Squares   F-statistic:                     589.2\n",
      "Date:                Sun, 14 Jul 2024   Prob (F-statistic):           5.44e-55\n",
      "Time:                        20:41:12   Log-Likelihood:                -827.34\n",
      "No. Observations:                 100   AIC:                             1661.\n",
      "Df Residuals:                      97   BIC:                             1669.\n",
      "Df Model:                           2                                         \n",
      "Covariance Type:            nonrobust                                         \n",
      "==============================================================================\n",
      "                 coef    std err          t      P>|t|      [0.025      0.975]\n",
      "------------------------------------------------------------------------------\n",
      "const       2398.6086    779.844      3.076      0.003     850.835    3946.382\n",
      "Age          191.2204     52.558      3.638      0.000      86.908     295.533\n",
      "Tenure       422.1429     46.815      9.017      0.000     329.228     515.058\n",
      "==============================================================================\n",
      "Omnibus:                        0.808   Durbin-Watson:                   2.386\n",
      "Prob(Omnibus):                  0.668   Jarque-Bera (JB):                0.362\n",
      "Skew:                          -0.044   Prob(JB):                        0.834\n",
      "Kurtosis:                       3.281   Cond. No.                         467.\n",
      "==============================================================================\n",
      "\n",
      "Notes:\n",
      "[1] Standard Errors assume that the covariance matrix of the errors is correctly specified.\n"
     ]
    }
   ],
   "source": [
    "\n",
    "# Print model summary\n",
    "print(model.summary())\n"
   ]
  },
  {
   "cell_type": "code",
   "execution_count": 46,
   "id": "53ce4e23",
   "metadata": {},
   "outputs": [
    {
     "name": "stdout",
     "output_type": "stream",
     "text": [
      "  Feature         VIF\n",
      "0     Age  380.256107\n",
      "1  Tenure  380.256107\n"
     ]
    }
   ],
   "source": [
    "from statsmodels.stats.outliers_influence import variance_inflation_factor\n",
    "\n",
    "# Calculate VIF for each independent variable\n",
    "X = data[['Age', 'Tenure']]\n",
    "vif_data = pd.DataFrame()\n",
    "vif_data[\"Feature\"] = X.columns\n",
    "vif_data[\"VIF\"] = [variance_inflation_factor(X.values, i) for i in range(len(X.columns))]\n",
    "\n",
    "print(vif_data) \n",
    "\n",
    "# it show the extremely high collinearity"
   ]
  },
  {
   "cell_type": "code",
   "execution_count": 18,
   "id": "10bb62c8",
   "metadata": {},
   "outputs": [],
   "source": [
    "import matplotlib.pyplot as plt"
   ]
  },
  {
   "cell_type": "code",
   "execution_count": 23,
   "id": "a22cf6bb",
   "metadata": {},
   "outputs": [
    {
     "data": {
      "text/plain": [
       "<Figure size 720x360 with 0 Axes>"
      ]
     },
     "execution_count": 23,
     "metadata": {},
     "output_type": "execute_result"
    },
    {
     "data": {
      "text/plain": [
       "<Figure size 720x360 with 0 Axes>"
      ]
     },
     "metadata": {},
     "output_type": "display_data"
    }
   ],
   "source": [
    "plt.figure(figsize=(10, 5))\n",
    "\n"
   ]
  },
  {
   "cell_type": "code",
   "execution_count": 35,
   "id": "d9552e5e",
   "metadata": {},
   "outputs": [
    {
     "data": {
      "text/plain": [
       "Text(0, 0.5, 'years of Experience')"
      ]
     },
     "execution_count": 35,
     "metadata": {},
     "output_type": "execute_result"
    },
    {
     "data": {
      "image/png": "[encoded data removed]",
      "text/plain": [
       "<Figure size 432x288 with 1 Axes>"
      ]
     },
     "metadata": {
      "needs_background": "light"
     },
     "output_type": "display_data"
    }
   ],
   "source": [
    "\n",
    "plt.scatter(age, tenure, color = 'b', alpha = 0.8)\n",
    "plt.xlabel('Age')\n",
    "plt.ylabel(\"years of Experience\")\n"
   ]
  },
  {
   "cell_type": "code",
   "execution_count": 37,
   "id": "5b440a40",
   "metadata": {},
   "outputs": [
    {
     "data": {
      "text/plain": [
       "Text(0.5, 1.0, 'Scatter Plot: Age vs Salary')"
      ]
     },
     "execution_count": 37,
     "metadata": {},
     "output_type": "execute_result"
    },
    {
     "data": {
      "image/png": "[encoded data removed]",
      "text/plain": [
       "<Figure size 432x288 with 1 Axes>"
      ]
     },
     "metadata": {
      "needs_background": "light"
     },
     "output_type": "display_data"
    }
   ],
   "source": [
    "\n",
    "plt.scatter(age, salary, color='g', alpha=0.6)\n",
    "plt.xlabel('Age')\n",
    "plt.ylabel('Salary')\n",
    "plt.title('Scatter Plot: Age vs Salary')\n"
   ]
  },
  {
   "cell_type": "code",
   "execution_count": 39,
   "id": "3a40ca6e",
   "metadata": {},
   "outputs": [
    {
     "data": {
      "text/plain": [
       "<Figure size 432x288 with 0 Axes>"
      ]
     },
     "metadata": {},
     "output_type": "display_data"
    }
   ],
   "source": [
    "plt.tight_layout()\n",
    "plt.show()"
   ]
  },
  {
   "cell_type": "code",
   "execution_count": 42,
   "id": "8d0dda37",
   "metadata": {},
   "outputs": [
    {
     "data": {
      "image/png": "[encoded data removed]",
      "text/plain": [
       "<Figure size 540x540 with 12 Axes>"
      ]
     },
     "metadata": {
      "needs_background": "light"
     },
     "output_type": "display_data"
    }
   ],
   "source": [
    "import seaborn as sns\n",
    "\n",
    "# Pairplot for visualization\n",
    "sns.pairplot(data[['Age', 'Tenure', 'Salary']])\n",
    "plt.show()"
   ]
  },
  {
   "cell_type": "code",
   "execution_count": null,
   "id": "1c13ac6b",
   "metadata": {},
   "outputs": [],
   "source": []
  }
 ],
 "metadata": {
  "kernelspec": {
   "display_name": "Python 3 (ipykernel)",
   "language": "python",
   "name": "python3"
  },
  "language_info": {
   "codemirror_mode": {
    "name": "ipython",
    "version": 3
   },
   "file_extension": ".py",
   "mimetype": "text/x-python",
   "name": "python",
   "nbconvert_exporter": "python",
   "pygments_lexer": "ipython3",
   "version": "3.9.7"
  }
 },
 "nbformat": 4,
 "nbformat_minor": 5
}
