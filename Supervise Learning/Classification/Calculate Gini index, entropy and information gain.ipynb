{
 "cells": [
  {
   "cell_type": "code",
   "execution_count": 2,
   "id": "a1a14102",
   "metadata": {},
   "outputs": [],
   "source": [
    "import numpy as np\n",
    "import pandas as pd\n",
    "from collections import Counter \n",
    "\n",
    "# counter :\n",
    "#Counting the occurrences of classes in a dataset.\n",
    "#Calculating class probabilities.\n",
    "#Summarizing categorical features.\n"
   ]
  },
  {
   "cell_type": "code",
   "execution_count": 5,
   "id": "8a8d36fe",
   "metadata": {},
   "outputs": [],
   "source": [
    "def gini_index (groups, classes):\n",
    "    #count all samples at split point\n",
    "    n_instances = float(sum([len(group) for group in groups]))\n",
    "    \n",
    "    # sum weighted Gini index for each group\n",
    "    gini = 0.0\n",
    "    for group in groups :\n",
    "        size = float(len(group))\n",
    "        if size == 0:\n",
    "            continue\n",
    "    \n",
    "    score = 0.0\n",
    "    for class_val in classes :\n",
    "        p = [row[-1] for row in group].count(class_val) /size\n",
    "        score += p* p\n",
    "    \n",
    "    gini += (1.0 - score) * (size / n_instances)\n",
    "    return gini"
   ]
  },
  {
   "cell_type": "code",
   "execution_count": 7,
   "id": "c2cd5154",
   "metadata": {},
   "outputs": [],
   "source": [
    "def entropy (groups, classes):\n",
    "    #count all sampls at split point\n",
    "    n_instances = float(sum([len(group) for group in groups]))\n",
    "    \n",
    "    #sum weighted entropy for each group\n",
    "    ent = 0.0\n",
    "    for group in groups :\n",
    "        size = float(len(group))\n",
    "        if size == 0:\n",
    "            continue\n",
    "            \n",
    "    score = 0.0      \n",
    "    for class_val in classes:\n",
    "            p = [row[-1] for row in group].count(class_val) / size\n",
    "            if p > 0:\n",
    "                score += p * np.log2(p)\n",
    "                \n",
    "    ent += (-score)*(size /n_instances)\n",
    "    return ent"
   ]
  },
  {
   "cell_type": "code",
   "execution_count": 8,
   "id": "b9602923",
   "metadata": {},
   "outputs": [],
   "source": [
    "def information_gain(groups, classes):\n",
    "    total_entropy = entropy([sum(groups, [])],classes)\n",
    "    weighted_entropy = sum([(len(group)/ float(sum([len(g) for g in groups]))) * entropy([group],classes) for group in groups])\n",
    "    return total_entropy - weighted_entropy"
   ]
  },
  {
   "cell_type": "code",
   "execution_count": 9,
   "id": "7a23267e",
   "metadata": {},
   "outputs": [],
   "source": [
    "# Example dataset\n",
    "dataset = [\n",
    "    [2.771244718, 1.784783929, 0],\n",
    "    [1.728571309, 1.169761413, 0],\n",
    "    [3.678319846, 2.81281357, 0],\n",
    "    [3.961043357, 2.61995032, 0],\n",
    "    [2.999208922, 2.209014212, 0],\n",
    "    [7.497545867, 3.162953546, 1],\n",
    "    [9.00220326, 3.339047188, 1],\n",
    "    [7.444542326, 0.476683375, 1],\n",
    "    [10.12493903, 3.234550982, 1],\n",
    "    [6.642287351, 3.319983761, 1]\n",
    "]\n"
   ]
  },
  {
   "cell_type": "code",
   "execution_count": 10,
   "id": "f5e62240",
   "metadata": {},
   "outputs": [],
   "source": [
    "# Split into groups\n",
    "group1 = [dataset[0], dataset[1], dataset[2], dataset[3], dataset[4]]\n",
    "group2 = [dataset[5], dataset[6], dataset[7], dataset[8], dataset[9]]\n",
    "\n",
    "groups = [group1, group2]\n",
    "classes = [0, 1]\n"
   ]
  },
  {
   "cell_type": "code",
   "execution_count": 13,
   "id": "ae55a574",
   "metadata": {},
   "outputs": [
    {
     "name": "stdout",
     "output_type": "stream",
     "text": [
      "gini index 0.0\n",
      "entropy 0.0\n",
      "information gain 1.0\n"
     ]
    }
   ],
   "source": [
    "print(\"gini index\", gini_index(groups, classes))\n",
    "print(\"entropy\", entropy(groups, classes))\n",
    "print(\"information gain\", information_gain(groups, classes))"
   ]
  },
  {
   "cell_type": "code",
   "execution_count": null,
   "id": "b6f0ae92",
   "metadata": {},
   "outputs": [],
   "source": []
  }
 ],
 "metadata": {
  "kernelspec": {
   "display_name": "Python 3 (ipykernel)",
   "language": "python",
   "name": "python3"
  },
  "language_info": {
   "codemirror_mode": {
    "name": "ipython",
    "version": 3
   },
   "file_extension": ".py",
   "mimetype": "text/x-python",
   "name": "python",
   "nbconvert_exporter": "python",
   "pygments_lexer": "ipython3",
   "version": "3.9.7"
  }
 },
 "nbformat": 4,
 "nbformat_minor": 5
}
