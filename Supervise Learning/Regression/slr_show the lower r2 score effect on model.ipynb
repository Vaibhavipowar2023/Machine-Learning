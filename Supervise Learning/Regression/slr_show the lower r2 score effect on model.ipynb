{
 "cells": [
  {
   "cell_type": "code",
   "execution_count": 1,
   "id": "f62d80fd",
   "metadata": {},
   "outputs": [],
   "source": [
    "import pandas as pd\n",
    "import numpy as np\n",
    "import matplotlib.pyplot as plt\n",
    "from sklearn.model_selection import train_test_split\n",
    "from sklearn.linear_model import LinearRegression"
   ]
  },
  {
   "cell_type": "code",
   "execution_count": 2,
   "id": "2f39eb9e",
   "metadata": {},
   "outputs": [],
   "source": [
    "df = pd.read_csv(\"advertising.csv\")"
   ]
  },
  {
   "cell_type": "code",
   "execution_count": 3,
   "id": "bdf18345",
   "metadata": {},
   "outputs": [
    {
     "data": {
      "text/html": [
       "<div>\n",
       "<style scoped>\n",
       "    .dataframe tbody tr th:only-of-type {\n",
       "        vertical-align: middle;\n",
       "    }\n",
       "\n",
       "    .dataframe tbody tr th {\n",
       "        vertical-align: top;\n",
       "    }\n",
       "\n",
       "    .dataframe thead th {\n",
       "        text-align: right;\n",
       "    }\n",
       "</style>\n",
       "<table border=\"1\" class=\"dataframe\">\n",
       "  <thead>\n",
       "    <tr style=\"text-align: right;\">\n",
       "      <th></th>\n",
       "      <th>TV</th>\n",
       "      <th>Radio</th>\n",
       "      <th>Newspaper</th>\n",
       "      <th>Sales</th>\n",
       "    </tr>\n",
       "  </thead>\n",
       "  <tbody>\n",
       "    <tr>\n",
       "      <th>0</th>\n",
       "      <td>230.1</td>\n",
       "      <td>37.8</td>\n",
       "      <td>69.2</td>\n",
       "      <td>22.1</td>\n",
       "    </tr>\n",
       "    <tr>\n",
       "      <th>1</th>\n",
       "      <td>44.5</td>\n",
       "      <td>39.3</td>\n",
       "      <td>45.1</td>\n",
       "      <td>10.4</td>\n",
       "    </tr>\n",
       "    <tr>\n",
       "      <th>2</th>\n",
       "      <td>17.2</td>\n",
       "      <td>45.9</td>\n",
       "      <td>69.3</td>\n",
       "      <td>12.0</td>\n",
       "    </tr>\n",
       "    <tr>\n",
       "      <th>3</th>\n",
       "      <td>151.5</td>\n",
       "      <td>41.3</td>\n",
       "      <td>58.5</td>\n",
       "      <td>16.5</td>\n",
       "    </tr>\n",
       "    <tr>\n",
       "      <th>4</th>\n",
       "      <td>180.8</td>\n",
       "      <td>10.8</td>\n",
       "      <td>58.4</td>\n",
       "      <td>17.9</td>\n",
       "    </tr>\n",
       "    <tr>\n",
       "      <th>...</th>\n",
       "      <td>...</td>\n",
       "      <td>...</td>\n",
       "      <td>...</td>\n",
       "      <td>...</td>\n",
       "    </tr>\n",
       "    <tr>\n",
       "      <th>195</th>\n",
       "      <td>38.2</td>\n",
       "      <td>3.7</td>\n",
       "      <td>13.8</td>\n",
       "      <td>7.6</td>\n",
       "    </tr>\n",
       "    <tr>\n",
       "      <th>196</th>\n",
       "      <td>94.2</td>\n",
       "      <td>4.9</td>\n",
       "      <td>8.1</td>\n",
       "      <td>14.0</td>\n",
       "    </tr>\n",
       "    <tr>\n",
       "      <th>197</th>\n",
       "      <td>177.0</td>\n",
       "      <td>9.3</td>\n",
       "      <td>6.4</td>\n",
       "      <td>14.8</td>\n",
       "    </tr>\n",
       "    <tr>\n",
       "      <th>198</th>\n",
       "      <td>283.6</td>\n",
       "      <td>42.0</td>\n",
       "      <td>66.2</td>\n",
       "      <td>25.5</td>\n",
       "    </tr>\n",
       "    <tr>\n",
       "      <th>199</th>\n",
       "      <td>232.1</td>\n",
       "      <td>8.6</td>\n",
       "      <td>8.7</td>\n",
       "      <td>18.4</td>\n",
       "    </tr>\n",
       "  </tbody>\n",
       "</table>\n",
       "<p>200 rows × 4 columns</p>\n",
       "</div>"
      ],
      "text/plain": [
       "        TV  Radio  Newspaper  Sales\n",
       "0    230.1   37.8       69.2   22.1\n",
       "1     44.5   39.3       45.1   10.4\n",
       "2     17.2   45.9       69.3   12.0\n",
       "3    151.5   41.3       58.5   16.5\n",
       "4    180.8   10.8       58.4   17.9\n",
       "..     ...    ...        ...    ...\n",
       "195   38.2    3.7       13.8    7.6\n",
       "196   94.2    4.9        8.1   14.0\n",
       "197  177.0    9.3        6.4   14.8\n",
       "198  283.6   42.0       66.2   25.5\n",
       "199  232.1    8.6        8.7   18.4\n",
       "\n",
       "[200 rows x 4 columns]"
      ]
     },
     "execution_count": 3,
     "metadata": {},
     "output_type": "execute_result"
    }
   ],
   "source": [
    "df"
   ]
  },
  {
   "cell_type": "code",
   "execution_count": 4,
   "id": "9deda95d",
   "metadata": {},
   "outputs": [
    {
     "data": {
      "text/plain": [
       "array([[22.1],\n",
       "       [10.4],\n",
       "       [12. ],\n",
       "       [16.5],\n",
       "       [17.9],\n",
       "       [ 7.2],\n",
       "       [11.8],\n",
       "       [13.2],\n",
       "       [ 4.8],\n",
       "       [15.6],\n",
       "       [12.6],\n",
       "       [17.4],\n",
       "       [ 9.2],\n",
       "       [13.7],\n",
       "       [19. ],\n",
       "       [22.4],\n",
       "       [12.5],\n",
       "       [24.4],\n",
       "       [11.3],\n",
       "       [14.6],\n",
       "       [18. ],\n",
       "       [17.5],\n",
       "       [ 5.6],\n",
       "       [20.5],\n",
       "       [ 9.7],\n",
       "       [17. ],\n",
       "       [15. ],\n",
       "       [20.9],\n",
       "       [18.9],\n",
       "       [10.5],\n",
       "       [21.4],\n",
       "       [11.9],\n",
       "       [13.2],\n",
       "       [17.4],\n",
       "       [11.9],\n",
       "       [17.8],\n",
       "       [25.4],\n",
       "       [14.7],\n",
       "       [10.1],\n",
       "       [21.5],\n",
       "       [16.6],\n",
       "       [17.1],\n",
       "       [20.7],\n",
       "       [17.9],\n",
       "       [ 8.5],\n",
       "       [16.1],\n",
       "       [10.6],\n",
       "       [23.2],\n",
       "       [19.8],\n",
       "       [ 9.7],\n",
       "       [16.4],\n",
       "       [10.7],\n",
       "       [22.6],\n",
       "       [21.2],\n",
       "       [20.2],\n",
       "       [23.7],\n",
       "       [ 5.5],\n",
       "       [13.2],\n",
       "       [23.8],\n",
       "       [18.4],\n",
       "       [ 8.1],\n",
       "       [24.2],\n",
       "       [20.7],\n",
       "       [14. ],\n",
       "       [16. ],\n",
       "       [11.3],\n",
       "       [11. ],\n",
       "       [13.4],\n",
       "       [18.9],\n",
       "       [22.3],\n",
       "       [18.3],\n",
       "       [12.4],\n",
       "       [ 8.8],\n",
       "       [11. ],\n",
       "       [17. ],\n",
       "       [ 8.7],\n",
       "       [ 6.9],\n",
       "       [14.2],\n",
       "       [ 5.3],\n",
       "       [11. ],\n",
       "       [11.8],\n",
       "       [17.3],\n",
       "       [11.3],\n",
       "       [13.6],\n",
       "       [21.7],\n",
       "       [20.2],\n",
       "       [12. ],\n",
       "       [16. ],\n",
       "       [12.9],\n",
       "       [16.7],\n",
       "       [14. ],\n",
       "       [ 7.3],\n",
       "       [19.4],\n",
       "       [22.2],\n",
       "       [11.5],\n",
       "       [16.9],\n",
       "       [16.7],\n",
       "       [20.5],\n",
       "       [25.4],\n",
       "       [17.2],\n",
       "       [16.7],\n",
       "       [23.8],\n",
       "       [19.8],\n",
       "       [19.7],\n",
       "       [20.7],\n",
       "       [15. ],\n",
       "       [ 7.2],\n",
       "       [12. ],\n",
       "       [ 5.3],\n",
       "       [19.8],\n",
       "       [18.4],\n",
       "       [21.8],\n",
       "       [17.1],\n",
       "       [20.9],\n",
       "       [14.6],\n",
       "       [12.6],\n",
       "       [12.2],\n",
       "       [ 9.4],\n",
       "       [15.9],\n",
       "       [ 6.6],\n",
       "       [15.5],\n",
       "       [ 7. ],\n",
       "       [16.6],\n",
       "       [15.2],\n",
       "       [19.7],\n",
       "       [10.6],\n",
       "       [ 6.6],\n",
       "       [11.9],\n",
       "       [24.7],\n",
       "       [ 9.7],\n",
       "       [ 1.6],\n",
       "       [17.7],\n",
       "       [ 5.7],\n",
       "       [19.6],\n",
       "       [10.8],\n",
       "       [11.6],\n",
       "       [ 9.5],\n",
       "       [20.8],\n",
       "       [ 9.6],\n",
       "       [20.7],\n",
       "       [10.9],\n",
       "       [19.2],\n",
       "       [20.1],\n",
       "       [10.4],\n",
       "       [12.3],\n",
       "       [10.3],\n",
       "       [18.2],\n",
       "       [25.4],\n",
       "       [10.9],\n",
       "       [10.1],\n",
       "       [16.1],\n",
       "       [11.6],\n",
       "       [16.6],\n",
       "       [16. ],\n",
       "       [20.6],\n",
       "       [ 3.2],\n",
       "       [15.3],\n",
       "       [10.1],\n",
       "       [ 7.3],\n",
       "       [12.9],\n",
       "       [16.4],\n",
       "       [13.3],\n",
       "       [19.9],\n",
       "       [18. ],\n",
       "       [11.9],\n",
       "       [16.9],\n",
       "       [ 8. ],\n",
       "       [17.2],\n",
       "       [17.1],\n",
       "       [20. ],\n",
       "       [ 8.4],\n",
       "       [17.5],\n",
       "       [ 7.6],\n",
       "       [16.7],\n",
       "       [16.5],\n",
       "       [27. ],\n",
       "       [20.2],\n",
       "       [16.7],\n",
       "       [16.8],\n",
       "       [17.6],\n",
       "       [15.5],\n",
       "       [17.2],\n",
       "       [ 8.7],\n",
       "       [26.2],\n",
       "       [17.6],\n",
       "       [22.6],\n",
       "       [10.3],\n",
       "       [17.3],\n",
       "       [20.9],\n",
       "       [ 6.7],\n",
       "       [10.8],\n",
       "       [11.9],\n",
       "       [ 5.9],\n",
       "       [19.6],\n",
       "       [17.3],\n",
       "       [ 7.6],\n",
       "       [14. ],\n",
       "       [14.8],\n",
       "       [25.5],\n",
       "       [18.4]])"
      ]
     },
     "execution_count": 4,
     "metadata": {},
     "output_type": "execute_result"
    }
   ],
   "source": [
    "X = df.iloc[:,-1].values.reshape(-1,1)\n",
    "X"
   ]
  },
  {
   "cell_type": "code",
   "execution_count": 5,
   "id": "56c8196e",
   "metadata": {},
   "outputs": [
    {
     "data": {
      "text/plain": [
       "array([[37.8],\n",
       "       [39.3],\n",
       "       [45.9],\n",
       "       [41.3],\n",
       "       [10.8],\n",
       "       [48.9],\n",
       "       [32.8],\n",
       "       [19.6],\n",
       "       [ 2.1],\n",
       "       [ 2.6],\n",
       "       [ 5.8],\n",
       "       [24. ],\n",
       "       [35.1],\n",
       "       [ 7.6],\n",
       "       [32.9],\n",
       "       [47.7],\n",
       "       [36.6],\n",
       "       [39.6],\n",
       "       [20.5],\n",
       "       [23.9],\n",
       "       [27.7],\n",
       "       [ 5.1],\n",
       "       [15.9],\n",
       "       [16.9],\n",
       "       [12.6],\n",
       "       [ 3.5],\n",
       "       [29.3],\n",
       "       [16.7],\n",
       "       [27.1],\n",
       "       [16. ],\n",
       "       [28.3],\n",
       "       [17.4],\n",
       "       [ 1.5],\n",
       "       [20. ],\n",
       "       [ 1.4],\n",
       "       [ 4.1],\n",
       "       [43.8],\n",
       "       [49.4],\n",
       "       [26.7],\n",
       "       [37.7],\n",
       "       [22.3],\n",
       "       [33.4],\n",
       "       [27.7],\n",
       "       [ 8.4],\n",
       "       [25.7],\n",
       "       [22.5],\n",
       "       [ 9.9],\n",
       "       [41.5],\n",
       "       [15.8],\n",
       "       [11.7],\n",
       "       [ 3.1],\n",
       "       [ 9.6],\n",
       "       [41.7],\n",
       "       [46.2],\n",
       "       [28.8],\n",
       "       [49.4],\n",
       "       [28.1],\n",
       "       [19.2],\n",
       "       [49.6],\n",
       "       [29.5],\n",
       "       [ 2. ],\n",
       "       [42.7],\n",
       "       [15.5],\n",
       "       [29.6],\n",
       "       [42.8],\n",
       "       [ 9.3],\n",
       "       [24.6],\n",
       "       [14.5],\n",
       "       [27.5],\n",
       "       [43.9],\n",
       "       [30.6],\n",
       "       [14.3],\n",
       "       [33. ],\n",
       "       [ 5.7],\n",
       "       [24.6],\n",
       "       [43.7],\n",
       "       [ 1.6],\n",
       "       [28.5],\n",
       "       [29.9],\n",
       "       [ 7.7],\n",
       "       [26.7],\n",
       "       [ 4.1],\n",
       "       [20.3],\n",
       "       [44.5],\n",
       "       [43. ],\n",
       "       [18.4],\n",
       "       [27.5],\n",
       "       [40.6],\n",
       "       [25.5],\n",
       "       [47.8],\n",
       "       [ 4.9],\n",
       "       [ 1.5],\n",
       "       [33.5],\n",
       "       [36.5],\n",
       "       [14. ],\n",
       "       [31.6],\n",
       "       [ 3.5],\n",
       "       [21. ],\n",
       "       [42.3],\n",
       "       [41.7],\n",
       "       [ 4.3],\n",
       "       [36.3],\n",
       "       [10.1],\n",
       "       [17.2],\n",
       "       [34.3],\n",
       "       [46.4],\n",
       "       [11. ],\n",
       "       [ 0.3],\n",
       "       [ 0.4],\n",
       "       [26.9],\n",
       "       [ 8.2],\n",
       "       [38. ],\n",
       "       [15.4],\n",
       "       [20.6],\n",
       "       [46.8],\n",
       "       [35. ],\n",
       "       [14.3],\n",
       "       [ 0.8],\n",
       "       [36.9],\n",
       "       [16. ],\n",
       "       [26.8],\n",
       "       [21.7],\n",
       "       [ 2.4],\n",
       "       [34.6],\n",
       "       [32.3],\n",
       "       [11.8],\n",
       "       [38.9],\n",
       "       [ 0. ],\n",
       "       [49. ],\n",
       "       [12. ],\n",
       "       [39.6],\n",
       "       [ 2.9],\n",
       "       [27.2],\n",
       "       [33.5],\n",
       "       [38.6],\n",
       "       [47. ],\n",
       "       [39. ],\n",
       "       [28.9],\n",
       "       [25.9],\n",
       "       [43.9],\n",
       "       [17. ],\n",
       "       [35.4],\n",
       "       [33.2],\n",
       "       [ 5.7],\n",
       "       [14.8],\n",
       "       [ 1.9],\n",
       "       [ 7.3],\n",
       "       [49. ],\n",
       "       [40.3],\n",
       "       [25.8],\n",
       "       [13.9],\n",
       "       [ 8.4],\n",
       "       [23.3],\n",
       "       [39.7],\n",
       "       [21.1],\n",
       "       [11.6],\n",
       "       [43.5],\n",
       "       [ 1.3],\n",
       "       [36.9],\n",
       "       [18.4],\n",
       "       [18.1],\n",
       "       [35.8],\n",
       "       [18.1],\n",
       "       [36.8],\n",
       "       [14.7],\n",
       "       [ 3.4],\n",
       "       [37.6],\n",
       "       [ 5.2],\n",
       "       [23.6],\n",
       "       [10.6],\n",
       "       [11.6],\n",
       "       [20.9],\n",
       "       [20.1],\n",
       "       [ 7.1],\n",
       "       [ 3.4],\n",
       "       [48.9],\n",
       "       [30.2],\n",
       "       [ 7.8],\n",
       "       [ 2.3],\n",
       "       [10. ],\n",
       "       [ 2.6],\n",
       "       [ 5.4],\n",
       "       [ 5.7],\n",
       "       [43. ],\n",
       "       [21.3],\n",
       "       [45.1],\n",
       "       [ 2.1],\n",
       "       [28.7],\n",
       "       [13.9],\n",
       "       [12.1],\n",
       "       [41.1],\n",
       "       [10.8],\n",
       "       [ 4.1],\n",
       "       [42. ],\n",
       "       [35.6],\n",
       "       [ 3.7],\n",
       "       [ 4.9],\n",
       "       [ 9.3],\n",
       "       [42. ],\n",
       "       [ 8.6]])"
      ]
     },
     "execution_count": 5,
     "metadata": {},
     "output_type": "execute_result"
    }
   ],
   "source": [
    "y = df.iloc[:,1].values.reshape(-1,1)\n",
    "y"
   ]
  },
  {
   "cell_type": "code",
   "execution_count": 6,
   "id": "5d1351b4",
   "metadata": {},
   "outputs": [],
   "source": [
    "x_train, x_test, y_train, y_test = train_test_split(X, y, test_size=0.3, random_state=100)"
   ]
  },
  {
   "cell_type": "code",
   "execution_count": 7,
   "id": "33df8676",
   "metadata": {
    "scrolled": true
   },
   "outputs": [
    {
     "data": {
      "text/plain": [
       "array([[ 6.6],\n",
       "       [20.7],\n",
       "       [17.2],\n",
       "       [19.4],\n",
       "       [21.8],\n",
       "       [17.2],\n",
       "       [12.2],\n",
       "       [16.7],\n",
       "       [22.6],\n",
       "       [22.3],\n",
       "       [11.9],\n",
       "       [19.7],\n",
       "       [ 8.7],\n",
       "       [20.6],\n",
       "       [10.6],\n",
       "       [14. ],\n",
       "       [17.3],\n",
       "       [16.7],\n",
       "       [18. ],\n",
       "       [11.9],\n",
       "       [17.4],\n",
       "       [11. ],\n",
       "       [22.4],\n",
       "       [17.1],\n",
       "       [20.5],\n",
       "       [24.7],\n",
       "       [19.6],\n",
       "       [11.3],\n",
       "       [20.7],\n",
       "       [15.2],\n",
       "       [13.6],\n",
       "       [11.3],\n",
       "       [11.6],\n",
       "       [19.9],\n",
       "       [ 8.4],\n",
       "       [14.2],\n",
       "       [13.2],\n",
       "       [16.7],\n",
       "       [16.5],\n",
       "       [20.2],\n",
       "       [17.1],\n",
       "       [17.1],\n",
       "       [17.5],\n",
       "       [17.2],\n",
       "       [13.2],\n",
       "       [10.6],\n",
       "       [ 8.7],\n",
       "       [18.9],\n",
       "       [10.5],\n",
       "       [ 7.6],\n",
       "       [16.6],\n",
       "       [16. ],\n",
       "       [12.6],\n",
       "       [16. ],\n",
       "       [18.4],\n",
       "       [10.4],\n",
       "       [ 5.9],\n",
       "       [ 9.5],\n",
       "       [16.6],\n",
       "       [13.3]])"
      ]
     },
     "execution_count": 7,
     "metadata": {},
     "output_type": "execute_result"
    }
   ],
   "source": [
    "x_test"
   ]
  },
  {
   "cell_type": "code",
   "execution_count": 8,
   "id": "403ad5af",
   "metadata": {},
   "outputs": [],
   "source": [
    "lr = LinearRegression()"
   ]
  },
  {
   "cell_type": "code",
   "execution_count": 9,
   "id": "f0c23ea2",
   "metadata": {},
   "outputs": [
    {
     "data": {
      "text/plain": [
       "LinearRegression()"
      ]
     },
     "execution_count": 9,
     "metadata": {},
     "output_type": "execute_result"
    }
   ],
   "source": [
    "lr.fit(x_train,y_train)"
   ]
  },
  {
   "cell_type": "code",
   "execution_count": 10,
   "id": "614ca0d8",
   "metadata": {},
   "outputs": [],
   "source": [
    "y_pred = lr.predict(x_test)"
   ]
  },
  {
   "cell_type": "code",
   "execution_count": 11,
   "id": "b7df0393",
   "metadata": {},
   "outputs": [
    {
     "data": {
      "text/plain": [
       "array([[15.33731979],\n",
       "       [28.06752096],\n",
       "       [24.90754194],\n",
       "       [26.89381447],\n",
       "       [29.06065722],\n",
       "       [24.90754194],\n",
       "       [20.39328621],\n",
       "       [24.45611637],\n",
       "       [29.78293814],\n",
       "       [29.51208279],\n",
       "       [20.12243087],\n",
       "       [27.16466981],\n",
       "       [17.2333072 ],\n",
       "       [27.97723584],\n",
       "       [18.94872438],\n",
       "       [22.01841828],\n",
       "       [24.99782706],\n",
       "       [24.45611637],\n",
       "       [25.62982286],\n",
       "       [20.12243087],\n",
       "       [25.08811217],\n",
       "       [19.30986484],\n",
       "       [29.60236791],\n",
       "       [24.81725683],\n",
       "       [27.88695073],\n",
       "       [31.67892554],\n",
       "       [27.0743847 ],\n",
       "       [19.58072018],\n",
       "       [28.06752096],\n",
       "       [23.10183965],\n",
       "       [21.65727782],\n",
       "       [19.58072018],\n",
       "       [19.85157552],\n",
       "       [27.34524004],\n",
       "       [16.96245186],\n",
       "       [22.1989885 ],\n",
       "       [21.29613736],\n",
       "       [24.45611637],\n",
       "       [24.27554614],\n",
       "       [27.61609538],\n",
       "       [24.81725683],\n",
       "       [24.81725683],\n",
       "       [25.17839729],\n",
       "       [24.90754194],\n",
       "       [21.29613736],\n",
       "       [18.94872438],\n",
       "       [17.2333072 ],\n",
       "       [26.44238889],\n",
       "       [18.85843926],\n",
       "       [16.24017094],\n",
       "       [24.36583126],\n",
       "       [23.82412057],\n",
       "       [20.75442667],\n",
       "       [23.82412057],\n",
       "       [25.99096332],\n",
       "       [18.76815415],\n",
       "       [14.70532399],\n",
       "       [17.95558812],\n",
       "       [24.36583126],\n",
       "       [21.38642247]])"
      ]
     },
     "execution_count": 11,
     "metadata": {},
     "output_type": "execute_result"
    }
   ],
   "source": [
    "y_pred"
   ]
  },
  {
   "cell_type": "code",
   "execution_count": 12,
   "id": "5e4f5f82",
   "metadata": {},
   "outputs": [
    {
     "name": "stdout",
     "output_type": "stream",
     "text": [
      "Intercept: [9.37850222]\n",
      "Coefficient: [0.90285115]\n"
     ]
    }
   ],
   "source": [
    "m= lr.intercept_\n",
    "print(\"Intercept:\", m)\n",
    "b= lr.coef_[0]\n",
    "print(\"Coefficient:\", lr.coef_[0])\n"
   ]
  },
  {
   "cell_type": "code",
   "execution_count": 13,
   "id": "1ce058d9",
   "metadata": {},
   "outputs": [],
   "source": [
    "from sklearn.metrics import mean_squared_error, r2_score, mean_absolute_error"
   ]
  },
  {
   "cell_type": "code",
   "execution_count": 14,
   "id": "0b44c24e",
   "metadata": {},
   "outputs": [
    {
     "name": "stdout",
     "output_type": "stream",
     "text": [
      "mean_squared_error 170.9868929217054\n",
      "mean_absolute_error 11.206539352850289\n"
     ]
    }
   ],
   "source": [
    "mse = mean_squared_error(y_test, y_pred)\n",
    "print(\"mean_squared_error\",mse)\n",
    "mae = mean_absolute_error(y_test, y_pred)\n",
    "print(\"mean_absolute_error\",mae)\n",
    "\n"
   ]
  },
  {
   "cell_type": "code",
   "execution_count": 19,
   "id": "975ba517",
   "metadata": {},
   "outputs": [
    {
     "data": {
      "text/plain": [
       "0.1421481121817082"
      ]
     },
     "execution_count": 19,
     "metadata": {},
     "output_type": "execute_result"
    }
   ],
   "source": [
    "r2= r2_score(y_test,y_pred)\n",
    "r2"
   ]
  },
  {
   "cell_type": "code",
   "execution_count": 16,
   "id": "df444f90",
   "metadata": {},
   "outputs": [
    {
     "data": {
      "text/plain": [
       "Text(0.5, 1.0, 'Prediction of TV Sales')"
      ]
     },
     "execution_count": 16,
     "metadata": {},
     "output_type": "execute_result"
    },
    {
     "data": {
      "image/png": "[encoded data removed]",
      "text/plain": [
       "<Figure size 432x288 with 1 Axes>"
      ]
     },
     "metadata": {
      "needs_background": "light"
     },
     "output_type": "display_data"
    }
   ],
   "source": [
    "plt.scatter(y_test, y_pred)\n",
    "plt.plot(x_test, y_pred, color = \"red\", label = \"Best fit line\")\n",
    "plt.xlabel(\"Sales\")\n",
    "plt.ylabel(\"TV\")\n",
    "plt.title(\"Prediction of TV Sales\")"
   ]
  },
  {
   "cell_type": "code",
   "execution_count": 17,
   "id": "918cdbd6",
   "metadata": {},
   "outputs": [
    {
     "data": {
      "text/plain": [
       "array([[15.33731979]])"
      ]
     },
     "execution_count": 17,
     "metadata": {},
     "output_type": "execute_result"
    }
   ],
   "source": [
    "\n",
    "lr.predict(x_test[[0]].reshape(1,1))"
   ]
  },
  {
   "cell_type": "code",
   "execution_count": 18,
   "id": "834fccbf",
   "metadata": {},
   "outputs": [
    {
     "data": {
      "text/plain": [
       "array([62.80096583])"
      ]
     },
     "execution_count": 18,
     "metadata": {},
     "output_type": "execute_result"
    }
   ],
   "source": [
    "m*6.6+b"
   ]
  },
  {
   "cell_type": "code",
   "execution_count": 20,
   "id": "2e3c630b",
   "metadata": {},
   "outputs": [
    {
     "data": {
      "image/png": "[encoded data removed]",
      "text/plain": [
       "<Figure size 432x288 with 1 Axes>"
      ]
     },
     "metadata": {
      "needs_background": "light"
     },
     "output_type": "display_data"
    }
   ],
   "source": [
    "plt.scatter(y_test, y_pred, alpha=0.5)\n",
    "plt.xlabel(\"Actual Values\")\n",
    "plt.ylabel(\"Predicted Values\")\n",
    "plt.title(\"Actual vs. Predicted Values\")\n",
    "plt.show()"
   ]
  },
  {
   "cell_type": "code",
   "execution_count": 22,
   "id": "41377827",
   "metadata": {},
   "outputs": [
    {
     "data": {
      "image/png": "[encoded data removed]",
      "text/plain": [
       "<Figure size 432x288 with 1 Axes>"
      ]
     },
     "metadata": {
      "needs_background": "light"
     },
     "output_type": "display_data"
    }
   ],
   "source": [
    "#residual analysis\n",
    "residuals = y_test - y_pred\n",
    "\n",
    "# Plot residuals\n",
    "plt.scatter(y_pred, residuals)\n",
    "plt.xlabel(\"Predicted Values\")\n",
    "plt.ylabel(\"Residuals\")\n",
    "plt.title(\"Residual Plot\")\n",
    "plt.axhline(y=0, color='r', linestyle='--')\n",
    "plt.show()"
   ]
  },
  {
   "cell_type": "code",
   "execution_count": 26,
   "id": "048b3086",
   "metadata": {},
   "outputs": [
    {
     "name": "stdout",
     "output_type": "stream",
     "text": [
      "Ridge Regression R-squared:  0.1421326532814875\n"
     ]
    }
   ],
   "source": [
    "from sklearn.linear_model import Ridge\n",
    "\n",
    "model = Ridge(alpha=1.0)\n",
    "model.fit(x_train, y_train)\n",
    "y_pred = model.predict(x_test)\n",
    "print(\"Ridge Regression R-squared: \", r2_score(y_test, y_pred))\n"
   ]
  },
  {
   "cell_type": "code",
   "execution_count": null,
   "id": "6f4b4643",
   "metadata": {},
   "outputs": [],
   "source": []
  }
 ],
 "metadata": {
  "kernelspec": {
   "display_name": "Python 3 (ipykernel)",
   "language": "python",
   "name": "python3"
  },
  "language_info": {
   "codemirror_mode": {
    "name": "ipython",
    "version": 3
   },
   "file_extension": ".py",
   "mimetype": "text/x-python",
   "name": "python",
   "nbconvert_exporter": "python",
   "pygments_lexer": "ipython3",
   "version": "3.9.7"
  }
 },
 "nbformat": 4,
 "nbformat_minor": 5
}
