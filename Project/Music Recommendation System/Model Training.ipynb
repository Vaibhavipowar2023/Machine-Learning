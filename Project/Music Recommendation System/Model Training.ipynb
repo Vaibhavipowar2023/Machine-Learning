{
 "cells": [
  {
   "cell_type": "markdown",
   "id": "c742b06d",
   "metadata": {},
   "source": [
    "# Music Recommendation System\n",
    "\n",
    "In this notebook, we will create a music recommendation system using a dataset of songs. The approach uses text preprocessing and cosine similarity to recommend songs based on user input.\n"
   ]
  },
  {
   "cell_type": "markdown",
   "id": "87a99418",
   "metadata": {},
   "source": [
    "### 1. Unzipping the Dataset"
   ]
  },
  {
   "cell_type": "code",
   "execution_count": 4,
   "id": "72b90bd2",
   "metadata": {},
   "outputs": [
    {
     "name": "stdout",
     "output_type": "stream",
     "text": [
      "File unzipped successfully!\n"
     ]
    }
   ],
   "source": [
    "import zipfile\n",
    "\n",
    "# Specify the file path\n",
    "zip_file_path = 'archive (6).zip'  # Replace with the path to your zip file\n",
    "extract_to_path = 'C:/Users/suyash/Documents/Extracted/'  # Replace with the desired extraction location\n",
    "\n",
    "# Open the zip file\n",
    "with zipfile.ZipFile(zip_file_path, 'r') as zip_ref:\n",
    "    # Extract all the contents to the specified directory\n",
    "    zip_ref.extractall(extract_to_path)\n",
    "\n",
    "print(\"File unzipped successfully!\")\n"
   ]
  },
  {
   "cell_type": "code",
   "execution_count": 2,
   "id": "0225112f",
   "metadata": {},
   "outputs": [],
   "source": [
    "import pandas as pd"
   ]
  },
  {
   "cell_type": "markdown",
   "id": "8065c557",
   "metadata": {},
   "source": [
    "### 2.Loading the Dataset"
   ]
  },
  {
   "cell_type": "code",
   "execution_count": 5,
   "id": "4847872d",
   "metadata": {},
   "outputs": [],
   "source": [
    "df = pd.read_csv('spotify_millsongdata.csv')"
   ]
  },
  {
   "cell_type": "code",
   "execution_count": 6,
   "id": "047f8bbc",
   "metadata": {},
   "outputs": [
    {
     "data": {
      "text/html": [
       "<div>\n",
       "<style scoped>\n",
       "    .dataframe tbody tr th:only-of-type {\n",
       "        vertical-align: middle;\n",
       "    }\n",
       "\n",
       "    .dataframe tbody tr th {\n",
       "        vertical-align: top;\n",
       "    }\n",
       "\n",
       "    .dataframe thead th {\n",
       "        text-align: right;\n",
       "    }\n",
       "</style>\n",
       "<table border=\"1\" class=\"dataframe\">\n",
       "  <thead>\n",
       "    <tr style=\"text-align: right;\">\n",
       "      <th></th>\n",
       "      <th>artist</th>\n",
       "      <th>song</th>\n",
       "      <th>link</th>\n",
       "      <th>text</th>\n",
       "    </tr>\n",
       "  </thead>\n",
       "  <tbody>\n",
       "    <tr>\n",
       "      <th>0</th>\n",
       "      <td>ABBA</td>\n",
       "      <td>Ahe's My Kind Of Girl</td>\n",
       "      <td>/a/abba/ahes+my+kind+of+girl_20598417.html</td>\n",
       "      <td>Look at her face, it's a wonderful face  \\r\\nA...</td>\n",
       "    </tr>\n",
       "    <tr>\n",
       "      <th>1</th>\n",
       "      <td>ABBA</td>\n",
       "      <td>Andante, Andante</td>\n",
       "      <td>/a/abba/andante+andante_20002708.html</td>\n",
       "      <td>Take it easy with me, please  \\r\\nTouch me gen...</td>\n",
       "    </tr>\n",
       "    <tr>\n",
       "      <th>2</th>\n",
       "      <td>ABBA</td>\n",
       "      <td>As Good As New</td>\n",
       "      <td>/a/abba/as+good+as+new_20003033.html</td>\n",
       "      <td>I'll never know why I had to go  \\r\\nWhy I had...</td>\n",
       "    </tr>\n",
       "    <tr>\n",
       "      <th>3</th>\n",
       "      <td>ABBA</td>\n",
       "      <td>Bang</td>\n",
       "      <td>/a/abba/bang_20598415.html</td>\n",
       "      <td>Making somebody happy is a question of give an...</td>\n",
       "    </tr>\n",
       "    <tr>\n",
       "      <th>4</th>\n",
       "      <td>ABBA</td>\n",
       "      <td>Bang-A-Boomerang</td>\n",
       "      <td>/a/abba/bang+a+boomerang_20002668.html</td>\n",
       "      <td>Making somebody happy is a question of give an...</td>\n",
       "    </tr>\n",
       "  </tbody>\n",
       "</table>\n",
       "</div>"
      ],
      "text/plain": [
       "  artist                   song                                        link  \\\n",
       "0   ABBA  Ahe's My Kind Of Girl  /a/abba/ahes+my+kind+of+girl_20598417.html   \n",
       "1   ABBA       Andante, Andante       /a/abba/andante+andante_20002708.html   \n",
       "2   ABBA         As Good As New        /a/abba/as+good+as+new_20003033.html   \n",
       "3   ABBA                   Bang                  /a/abba/bang_20598415.html   \n",
       "4   ABBA       Bang-A-Boomerang      /a/abba/bang+a+boomerang_20002668.html   \n",
       "\n",
       "                                                text  \n",
       "0  Look at her face, it's a wonderful face  \\r\\nA...  \n",
       "1  Take it easy with me, please  \\r\\nTouch me gen...  \n",
       "2  I'll never know why I had to go  \\r\\nWhy I had...  \n",
       "3  Making somebody happy is a question of give an...  \n",
       "4  Making somebody happy is a question of give an...  "
      ]
     },
     "execution_count": 6,
     "metadata": {},
     "output_type": "execute_result"
    }
   ],
   "source": [
    "#Display the first five rows of the dataframe\n",
    "df.head()"
   ]
  },
  {
   "cell_type": "code",
   "execution_count": 7,
   "id": "d27799ff",
   "metadata": {},
   "outputs": [
    {
     "data": {
      "text/html": [
       "<div>\n",
       "<style scoped>\n",
       "    .dataframe tbody tr th:only-of-type {\n",
       "        vertical-align: middle;\n",
       "    }\n",
       "\n",
       "    .dataframe tbody tr th {\n",
       "        vertical-align: top;\n",
       "    }\n",
       "\n",
       "    .dataframe thead th {\n",
       "        text-align: right;\n",
       "    }\n",
       "</style>\n",
       "<table border=\"1\" class=\"dataframe\">\n",
       "  <thead>\n",
       "    <tr style=\"text-align: right;\">\n",
       "      <th></th>\n",
       "      <th>artist</th>\n",
       "      <th>song</th>\n",
       "      <th>link</th>\n",
       "      <th>text</th>\n",
       "    </tr>\n",
       "  </thead>\n",
       "  <tbody>\n",
       "    <tr>\n",
       "      <th>57645</th>\n",
       "      <td>Ziggy Marley</td>\n",
       "      <td>Good Old Days</td>\n",
       "      <td>/z/ziggy+marley/good+old+days_10198588.html</td>\n",
       "      <td>Irie days come on play  \\r\\nLet the angels fly...</td>\n",
       "    </tr>\n",
       "    <tr>\n",
       "      <th>57646</th>\n",
       "      <td>Ziggy Marley</td>\n",
       "      <td>Hand To Mouth</td>\n",
       "      <td>/z/ziggy+marley/hand+to+mouth_20531167.html</td>\n",
       "      <td>Power to the workers  \\r\\nMore power  \\r\\nPowe...</td>\n",
       "    </tr>\n",
       "    <tr>\n",
       "      <th>57647</th>\n",
       "      <td>Zwan</td>\n",
       "      <td>Come With Me</td>\n",
       "      <td>/z/zwan/come+with+me_20148981.html</td>\n",
       "      <td>all you need  \\r\\nis something i'll believe  \\...</td>\n",
       "    </tr>\n",
       "    <tr>\n",
       "      <th>57648</th>\n",
       "      <td>Zwan</td>\n",
       "      <td>Desire</td>\n",
       "      <td>/z/zwan/desire_20148986.html</td>\n",
       "      <td>northern star  \\r\\nam i frightened  \\r\\nwhere ...</td>\n",
       "    </tr>\n",
       "    <tr>\n",
       "      <th>57649</th>\n",
       "      <td>Zwan</td>\n",
       "      <td>Heartsong</td>\n",
       "      <td>/z/zwan/heartsong_20148991.html</td>\n",
       "      <td>come in  \\r\\nmake yourself at home  \\r\\ni'm a ...</td>\n",
       "    </tr>\n",
       "  </tbody>\n",
       "</table>\n",
       "</div>"
      ],
      "text/plain": [
       "             artist           song  \\\n",
       "57645  Ziggy Marley  Good Old Days   \n",
       "57646  Ziggy Marley  Hand To Mouth   \n",
       "57647          Zwan   Come With Me   \n",
       "57648          Zwan         Desire   \n",
       "57649          Zwan      Heartsong   \n",
       "\n",
       "                                              link  \\\n",
       "57645  /z/ziggy+marley/good+old+days_10198588.html   \n",
       "57646  /z/ziggy+marley/hand+to+mouth_20531167.html   \n",
       "57647           /z/zwan/come+with+me_20148981.html   \n",
       "57648                 /z/zwan/desire_20148986.html   \n",
       "57649              /z/zwan/heartsong_20148991.html   \n",
       "\n",
       "                                                    text  \n",
       "57645  Irie days come on play  \\r\\nLet the angels fly...  \n",
       "57646  Power to the workers  \\r\\nMore power  \\r\\nPowe...  \n",
       "57647  all you need  \\r\\nis something i'll believe  \\...  \n",
       "57648  northern star  \\r\\nam i frightened  \\r\\nwhere ...  \n",
       "57649  come in  \\r\\nmake yourself at home  \\r\\ni'm a ...  "
      ]
     },
     "execution_count": 7,
     "metadata": {},
     "output_type": "execute_result"
    }
   ],
   "source": [
    "#Display the last five rows of the dataframe\n",
    "df.tail()"
   ]
  },
  {
   "cell_type": "code",
   "execution_count": 8,
   "id": "3967f6c0",
   "metadata": {},
   "outputs": [
    {
     "data": {
      "text/plain": [
       "artist    0\n",
       "song      0\n",
       "link      0\n",
       "text      0\n",
       "dtype: int64"
      ]
     },
     "execution_count": 8,
     "metadata": {},
     "output_type": "execute_result"
    }
   ],
   "source": [
    "#Check the missing values\n",
    "df.isnull().sum()"
   ]
  },
  {
   "cell_type": "code",
   "execution_count": 9,
   "id": "d59a24e0",
   "metadata": {},
   "outputs": [
    {
     "data": {
      "text/plain": [
       "(57650, 4)"
      ]
     },
     "execution_count": 9,
     "metadata": {},
     "output_type": "execute_result"
    }
   ],
   "source": [
    "#Display the shape of the dataframe\n",
    "df.shape"
   ]
  },
  {
   "cell_type": "markdown",
   "id": "a5f78a3b",
   "metadata": {},
   "source": [
    "57650 : Columns\n",
    "\n",
    "4     : Rows"
   ]
  },
  {
   "cell_type": "code",
   "execution_count": 10,
   "id": "ade4931c",
   "metadata": {},
   "outputs": [
    {
     "data": {
      "text/html": [
       "<div>\n",
       "<style scoped>\n",
       "    .dataframe tbody tr th:only-of-type {\n",
       "        vertical-align: middle;\n",
       "    }\n",
       "\n",
       "    .dataframe tbody tr th {\n",
       "        vertical-align: top;\n",
       "    }\n",
       "\n",
       "    .dataframe thead th {\n",
       "        text-align: right;\n",
       "    }\n",
       "</style>\n",
       "<table border=\"1\" class=\"dataframe\">\n",
       "  <thead>\n",
       "    <tr style=\"text-align: right;\">\n",
       "      <th></th>\n",
       "      <th>artist</th>\n",
       "      <th>song</th>\n",
       "      <th>link</th>\n",
       "      <th>text</th>\n",
       "    </tr>\n",
       "  </thead>\n",
       "  <tbody>\n",
       "    <tr>\n",
       "      <th>0</th>\n",
       "      <td>ABBA</td>\n",
       "      <td>Ahe's My Kind Of Girl</td>\n",
       "      <td>/a/abba/ahes+my+kind+of+girl_20598417.html</td>\n",
       "      <td>Look at her face, it's a wonderful face  \\r\\nA...</td>\n",
       "    </tr>\n",
       "    <tr>\n",
       "      <th>1</th>\n",
       "      <td>ABBA</td>\n",
       "      <td>Andante, Andante</td>\n",
       "      <td>/a/abba/andante+andante_20002708.html</td>\n",
       "      <td>Take it easy with me, please  \\r\\nTouch me gen...</td>\n",
       "    </tr>\n",
       "    <tr>\n",
       "      <th>2</th>\n",
       "      <td>ABBA</td>\n",
       "      <td>As Good As New</td>\n",
       "      <td>/a/abba/as+good+as+new_20003033.html</td>\n",
       "      <td>I'll never know why I had to go  \\r\\nWhy I had...</td>\n",
       "    </tr>\n",
       "    <tr>\n",
       "      <th>3</th>\n",
       "      <td>ABBA</td>\n",
       "      <td>Bang</td>\n",
       "      <td>/a/abba/bang_20598415.html</td>\n",
       "      <td>Making somebody happy is a question of give an...</td>\n",
       "    </tr>\n",
       "    <tr>\n",
       "      <th>4</th>\n",
       "      <td>ABBA</td>\n",
       "      <td>Bang-A-Boomerang</td>\n",
       "      <td>/a/abba/bang+a+boomerang_20002668.html</td>\n",
       "      <td>Making somebody happy is a question of give an...</td>\n",
       "    </tr>\n",
       "    <tr>\n",
       "      <th>...</th>\n",
       "      <td>...</td>\n",
       "      <td>...</td>\n",
       "      <td>...</td>\n",
       "      <td>...</td>\n",
       "    </tr>\n",
       "    <tr>\n",
       "      <th>57645</th>\n",
       "      <td>Ziggy Marley</td>\n",
       "      <td>Good Old Days</td>\n",
       "      <td>/z/ziggy+marley/good+old+days_10198588.html</td>\n",
       "      <td>Irie days come on play  \\r\\nLet the angels fly...</td>\n",
       "    </tr>\n",
       "    <tr>\n",
       "      <th>57646</th>\n",
       "      <td>Ziggy Marley</td>\n",
       "      <td>Hand To Mouth</td>\n",
       "      <td>/z/ziggy+marley/hand+to+mouth_20531167.html</td>\n",
       "      <td>Power to the workers  \\r\\nMore power  \\r\\nPowe...</td>\n",
       "    </tr>\n",
       "    <tr>\n",
       "      <th>57647</th>\n",
       "      <td>Zwan</td>\n",
       "      <td>Come With Me</td>\n",
       "      <td>/z/zwan/come+with+me_20148981.html</td>\n",
       "      <td>all you need  \\r\\nis something i'll believe  \\...</td>\n",
       "    </tr>\n",
       "    <tr>\n",
       "      <th>57648</th>\n",
       "      <td>Zwan</td>\n",
       "      <td>Desire</td>\n",
       "      <td>/z/zwan/desire_20148986.html</td>\n",
       "      <td>northern star  \\r\\nam i frightened  \\r\\nwhere ...</td>\n",
       "    </tr>\n",
       "    <tr>\n",
       "      <th>57649</th>\n",
       "      <td>Zwan</td>\n",
       "      <td>Heartsong</td>\n",
       "      <td>/z/zwan/heartsong_20148991.html</td>\n",
       "      <td>come in  \\r\\nmake yourself at home  \\r\\ni'm a ...</td>\n",
       "    </tr>\n",
       "  </tbody>\n",
       "</table>\n",
       "<p>57650 rows × 4 columns</p>\n",
       "</div>"
      ],
      "text/plain": [
       "             artist                   song  \\\n",
       "0              ABBA  Ahe's My Kind Of Girl   \n",
       "1              ABBA       Andante, Andante   \n",
       "2              ABBA         As Good As New   \n",
       "3              ABBA                   Bang   \n",
       "4              ABBA       Bang-A-Boomerang   \n",
       "...             ...                    ...   \n",
       "57645  Ziggy Marley          Good Old Days   \n",
       "57646  Ziggy Marley          Hand To Mouth   \n",
       "57647          Zwan           Come With Me   \n",
       "57648          Zwan                 Desire   \n",
       "57649          Zwan              Heartsong   \n",
       "\n",
       "                                              link  \\\n",
       "0       /a/abba/ahes+my+kind+of+girl_20598417.html   \n",
       "1            /a/abba/andante+andante_20002708.html   \n",
       "2             /a/abba/as+good+as+new_20003033.html   \n",
       "3                       /a/abba/bang_20598415.html   \n",
       "4           /a/abba/bang+a+boomerang_20002668.html   \n",
       "...                                            ...   \n",
       "57645  /z/ziggy+marley/good+old+days_10198588.html   \n",
       "57646  /z/ziggy+marley/hand+to+mouth_20531167.html   \n",
       "57647           /z/zwan/come+with+me_20148981.html   \n",
       "57648                 /z/zwan/desire_20148986.html   \n",
       "57649              /z/zwan/heartsong_20148991.html   \n",
       "\n",
       "                                                    text  \n",
       "0      Look at her face, it's a wonderful face  \\r\\nA...  \n",
       "1      Take it easy with me, please  \\r\\nTouch me gen...  \n",
       "2      I'll never know why I had to go  \\r\\nWhy I had...  \n",
       "3      Making somebody happy is a question of give an...  \n",
       "4      Making somebody happy is a question of give an...  \n",
       "...                                                  ...  \n",
       "57645  Irie days come on play  \\r\\nLet the angels fly...  \n",
       "57646  Power to the workers  \\r\\nMore power  \\r\\nPowe...  \n",
       "57647  all you need  \\r\\nis something i'll believe  \\...  \n",
       "57648  northern star  \\r\\nam i frightened  \\r\\nwhere ...  \n",
       "57649  come in  \\r\\nmake yourself at home  \\r\\ni'm a ...  \n",
       "\n",
       "[57650 rows x 4 columns]"
      ]
     },
     "execution_count": 10,
     "metadata": {},
     "output_type": "execute_result"
    }
   ],
   "source": [
    "df"
   ]
  },
  {
   "cell_type": "markdown",
   "id": "bc81a387",
   "metadata": {},
   "source": [
    "### 3. Data Sampling and  Preprocessing"
   ]
  },
  {
   "cell_type": "code",
   "execution_count": 11,
   "id": "617d5003",
   "metadata": {},
   "outputs": [],
   "source": [
    "#Sample 5000 rows and drop the 'link' column\n",
    "df =df.sample(5000).drop('link', axis=1).reset_index(drop=True)"
   ]
  },
  {
   "cell_type": "code",
   "execution_count": 12,
   "id": "da78aeff",
   "metadata": {},
   "outputs": [
    {
     "data": {
      "text/plain": [
       "(5000, 3)"
      ]
     },
     "execution_count": 12,
     "metadata": {},
     "output_type": "execute_result"
    }
   ],
   "source": [
    "# Display the shape of the sampled DataFrame\n",
    "df.shape"
   ]
  },
  {
   "cell_type": "code",
   "execution_count": 13,
   "id": "d6f4668c",
   "metadata": {},
   "outputs": [
    {
     "data": {
      "text/plain": [
       "\"[Intro]  \\r\\nOh, oh  \\r\\nUh-oh-oh-oh  \\r\\nEh  \\r\\n  \\r\\n[Verse 1]  \\r\\nIt's a little blurry how the whole thing started  \\r\\nI don't even really know what you intended  \\r\\nThought that you were cute and you could make me jealous  \\r\\nPoured it down, so I poured it down  \\r\\nNext thing that I know I'm in a hotel with you  \\r\\nYou were talking deep like it was mad love to you  \\r\\nYou wanted my heart but I just liked your tattoos  \\r\\nPoured it down, so I poured it down  \\r\\n  \\r\\n[Pre-Chorus 1]  \\r\\nAnd now I don't understand it  \\r\\nYou don't mess with love, you mess with the truth  \\r\\nAnd I know I shouldn't say it  \\r\\nBut my heart don't understand  \\r\\n  \\r\\n[Chorus 1]  \\r\\nWhy I got you on my mind  \\r\\nWhy I got you on my mind  \\r\\nWhy I got you on my mind  \\r\\nWhy I got you on my mind  \\r\\nBut my heart don't understand  \\r\\nWhy I got you on my mind  \\r\\nWhy I got you on my mind  \\r\\nWhy I got you on my mind  \\r\\nWhy I got you on my mind  \\r\\n  \\r\\n[Verse 2]  \\r\\nI always hear, always hear them talking  \\r\\nTalking 'bout a girl, 'bout a girl with money  \\r\\nSaying that I hurt you but I still don't get it  \\r\\nYou didn't love me, no, not really  \\r\\nWait  \\r\\nI could have really liked you  \\r\\nI'll bet, I'll bet that's why I keep on thinking 'bout you  \\r\\nIt's a shame (shame), you said I was good  \\r\\nSo I poured it down, so I poured it down  \\r\\n  \\r\\n[Pre-Chorus 1]  \\r\\nAnd now I don't understand it  \\r\\nYou don't mess with love, you mess with the truth  \\r\\nAnd I know I shouldn't say it  \\r\\nBut my heart don't understand  \\r\\n  \\r\\n[Chorus 2]  \\r\\nWhy I got you on my mind  \\r\\nWhy I got you on my mind  \\r\\nWhy I got you on my mind  \\r\\nWhy I got you on my mind  \\r\\nBut my heart don't understand  \\r\\nWhy I got you on my mind  \\r\\nYou think you know somebody  \\r\\nWhy I got you on my mind  \\r\\nYou think you know somebody  \\r\\nWhy I got you on my mind  \\r\\nYou think you know somebody  \\r\\nWhy I got you on my mi-i-i-i-ind  \\r\\n  \\r\\n[Bridge]  \\r\\nYou got yourself in a dangerous zone  \\r\\nCause we both have the fear, fear of being alone  \\r\\n  \\r\\n[Pre-Chorus 2]  \\r\\nAnd I still don't understand it  \\r\\nYou don't mess with love, you mess with the truth  \\r\\nAnd my heart don't understand it  \\r\\nUnderstand it, understand it  \\r\\n  \\r\\n[Chorus 3]  \\r\\nWhy I got you on my mind  \\r\\nYou think you know somebody  \\r\\nWhy I got you on my mind  \\r\\nYou think you know somebody  \\r\\nWhy I got you on my mind  \\r\\nYou think you know somebody  \\r\\nWhy I got you on my mind  \\r\\nBut my heart don't understand  \\r\\nWhy I got you on my mind  \\r\\nYou think you know somebody  \\r\\nWhy I got you on my mind  \\r\\nYou think you know somebody  \\r\\nWhy I got you on my mind  \\r\\nYou think you know somebody  \\r\\nWhy I got you on my mind  \\r\\nBut my heart don't understand  \\r\\nWhy I got you on my mind  \\r\\nYou think you know somebody  \\r\\nWhy I got you on my mind  \\r\\nYou think you know somebody  \\r\\nWhy I got you on my mind  \\r\\nYou think you know somebody  \\r\\nWhy I got you on my mind  \\r\\n  \\r\\n[Outro]  \\r\\nUh, uh, uh, uh\\r\\n\\r\\n\""
      ]
     },
     "execution_count": 13,
     "metadata": {},
     "output_type": "execute_result"
    }
   ],
   "source": [
    "# Display the first text entry\n",
    "df['text'][0]"
   ]
  },
  {
   "cell_type": "code",
   "execution_count": 14,
   "id": "94653f3b",
   "metadata": {},
   "outputs": [],
   "source": [
    "# Text Preprocessing: Convert text to lowercase and clean it\n",
    "df['text'] = df['text'].str.lower().replace(r'^\\w\\s', ' ').replace(r'\\n', ' ', regex = True)"
   ]
  },
  {
   "cell_type": "code",
   "execution_count": 15,
   "id": "6fc75216",
   "metadata": {},
   "outputs": [
    {
     "data": {
      "text/plain": [
       "0       [intro]  \\r oh, oh  \\r uh-oh-oh-oh  \\r eh  \\r ...\n",
       "1       there's something on your mind  \\r by the way ...\n",
       "2       i wake up in a different daylight  \\r guess i ...\n",
       "3       [verse:]  \\r stare in the face of the grim dea...\n",
       "4       like a candle  \\r burning bright  \\r love is g...\n",
       "                              ...                        \n",
       "4995    in the passion your heart is abused  \\r he is ...\n",
       "4996    i remember when you seemed real shiny with the...\n",
       "4997    fill the sky with love  \\r fill the sky with l...\n",
       "4998    well, you rang me up you say you wanna get hig...\n",
       "4999    sometimes they're in a bottle  \\r sometimes a ...\n",
       "Name: text, Length: 5000, dtype: object"
      ]
     },
     "execution_count": 15,
     "metadata": {},
     "output_type": "execute_result"
    }
   ],
   "source": [
    "df['text']"
   ]
  },
  {
   "cell_type": "code",
   "execution_count": 16,
   "id": "05d2b2f4",
   "metadata": {},
   "outputs": [
    {
     "data": {
      "text/html": [
       "<div>\n",
       "<style scoped>\n",
       "    .dataframe tbody tr th:only-of-type {\n",
       "        vertical-align: middle;\n",
       "    }\n",
       "\n",
       "    .dataframe tbody tr th {\n",
       "        vertical-align: top;\n",
       "    }\n",
       "\n",
       "    .dataframe thead th {\n",
       "        text-align: right;\n",
       "    }\n",
       "</style>\n",
       "<table border=\"1\" class=\"dataframe\">\n",
       "  <thead>\n",
       "    <tr style=\"text-align: right;\">\n",
       "      <th></th>\n",
       "      <th>artist</th>\n",
       "      <th>song</th>\n",
       "      <th>text</th>\n",
       "    </tr>\n",
       "  </thead>\n",
       "  <tbody>\n",
       "    <tr>\n",
       "      <th>0</th>\n",
       "      <td>Ellie Goulding</td>\n",
       "      <td>On My Mind</td>\n",
       "      <td>[intro]  \\r oh, oh  \\r uh-oh-oh-oh  \\r eh  \\r ...</td>\n",
       "    </tr>\n",
       "    <tr>\n",
       "      <th>1</th>\n",
       "      <td>Etta James</td>\n",
       "      <td>There's Something On Your Mind</td>\n",
       "      <td>there's something on your mind  \\r by the way ...</td>\n",
       "    </tr>\n",
       "    <tr>\n",
       "      <th>2</th>\n",
       "      <td>Roxette</td>\n",
       "      <td>You Turn Me On</td>\n",
       "      <td>i wake up in a different daylight  \\r guess i ...</td>\n",
       "    </tr>\n",
       "    <tr>\n",
       "      <th>3</th>\n",
       "      <td>Marilyn Manson</td>\n",
       "      <td>Day 3</td>\n",
       "      <td>[verse:]  \\r stare in the face of the grim dea...</td>\n",
       "    </tr>\n",
       "    <tr>\n",
       "      <th>4</th>\n",
       "      <td>Whitney Houston</td>\n",
       "      <td>Nobody Loves Me Like You Do</td>\n",
       "      <td>like a candle  \\r burning bright  \\r love is g...</td>\n",
       "    </tr>\n",
       "  </tbody>\n",
       "</table>\n",
       "</div>"
      ],
      "text/plain": [
       "            artist                            song  \\\n",
       "0   Ellie Goulding                      On My Mind   \n",
       "1       Etta James  There's Something On Your Mind   \n",
       "2          Roxette                  You Turn Me On   \n",
       "3   Marilyn Manson                           Day 3   \n",
       "4  Whitney Houston     Nobody Loves Me Like You Do   \n",
       "\n",
       "                                                text  \n",
       "0  [intro]  \\r oh, oh  \\r uh-oh-oh-oh  \\r eh  \\r ...  \n",
       "1  there's something on your mind  \\r by the way ...  \n",
       "2  i wake up in a different daylight  \\r guess i ...  \n",
       "3  [verse:]  \\r stare in the face of the grim dea...  \n",
       "4  like a candle  \\r burning bright  \\r love is g...  "
      ]
     },
     "execution_count": 16,
     "metadata": {},
     "output_type": "execute_result"
    }
   ],
   "source": [
    "df.head()"
   ]
  },
  {
   "cell_type": "markdown",
   "id": "e708f789",
   "metadata": {},
   "source": [
    "### 4. Tokenization and Stemming\n"
   ]
  },
  {
   "cell_type": "code",
   "execution_count": 17,
   "id": "82cb821b",
   "metadata": {},
   "outputs": [
    {
     "name": "stderr",
     "output_type": "stream",
     "text": [
      "C:\\Users\\suyash\\anaconda3\\lib\\site-packages\\scipy\\__init__.py:146: UserWarning: A NumPy version >=1.16.5 and <1.23.0 is required for this version of SciPy (detected version 1.26.4\n",
      "  warnings.warn(f\"A NumPy version >={np_minversion} and <{np_maxversion}\"\n"
     ]
    }
   ],
   "source": [
    "import nltk\n",
    "from nltk.stem.porter import PorterStemmer\n",
    "\n",
    "# Initialize the Porter Stemmer\n",
    "stemmer = PorterStemmer()\n",
    "\n",
    "# Define a function for tokenization and stemming\n",
    "def tokenization(txt):\n",
    "    tokens = nltk.word_tokenize(txt)# Tokenize the text\n",
    "    stemming = [stemmer.stem(w) for w in tokens]  # Apply stemming\n",
    "    return \" \".join(stemming) # Return the processed text"
   ]
  },
  {
   "cell_type": "code",
   "execution_count": 18,
   "id": "d9debb9d",
   "metadata": {},
   "outputs": [],
   "source": [
    "# Apply the tokenization function to the text column\n",
    "df['text'] = df['text'].apply(lambda x: tokenization(x))"
   ]
  },
  {
   "cell_type": "markdown",
   "id": "a76da68d",
   "metadata": {},
   "source": [
    "### 5. Feature Extraction With TF-IDF"
   ]
  },
  {
   "cell_type": "code",
   "execution_count": null,
   "id": "1d783739",
   "metadata": {},
   "outputs": [],
   "source": [
    "from sklearn.feature_extraction.text import TfidfVectorizer\n",
    "from sklearn.metrics.pairwise import cosine_similarity"
   ]
  },
  {
   "cell_type": "code",
   "execution_count": null,
   "id": "54123def",
   "metadata": {},
   "outputs": [],
   "source": [
    "# Initialize the TF-IDF vectorizer\n",
    "tfidvector = TfidfVectorizer(analyzer='word',stop_words='english')\n",
    "\n",
    "# Fit and transform the text data into a TF-IDF matrix\n",
    "matrix = tfidvector.fit_transform(df['text'])\n",
    "\n",
    "# Calculate cosine similarity between the songs\n",
    "similarity = cosine_similarity(matrix)"
   ]
  },
  {
   "cell_type": "code",
   "execution_count": null,
   "id": "63cb18fd",
   "metadata": {},
   "outputs": [],
   "source": [
    "# Display similarity scores for the first song\n",
    "similarity[0]"
   ]
  },
  {
   "cell_type": "markdown",
   "id": "38099ae2",
   "metadata": {},
   "source": [
    "### 6.Song Recommendation Function\n",
    "\n",
    "We will define a function that takes a song name as input and returns a list of recommended songs."
   ]
  },
  {
   "cell_type": "code",
   "execution_count": null,
   "id": "66615670",
   "metadata": {},
   "outputs": [],
   "source": [
    "# Function to recommend songs based on similarity\n",
    "def recommendation(song_df):\n",
    "    idx = df[df['song'] == song_df].index[0] # Find the index of the input song\n",
    "    distances = sorted(list(enumerate(similarity[idx])),reverse=True,key=lambda x:x[1]) # Sort songs by similarity\n",
    "    \n",
    "    songs = []\n",
    "    for m_id in distances[1:21]: # Get top 20 similar songs\n",
    "        songs.append(df.iloc[m_id[0]].song)\n",
    "        \n",
    "    return songs"
   ]
  },
  {
   "cell_type": "code",
   "execution_count": null,
   "id": "4e47d490",
   "metadata": {},
   "outputs": [],
   "source": [
    "# Test the recommendation function\n",
    "recommendation('Crying Over You')\n"
   ]
  },
  {
   "cell_type": "markdown",
   "id": "5c85a7fb",
   "metadata": {},
   "source": [
    "### 7.Saving the Model"
   ]
  },
  {
   "cell_type": "code",
   "execution_count": null,
   "id": "3aec5a75",
   "metadata": {},
   "outputs": [],
   "source": [
    "import pickle\n",
    "\n",
    "# Save the similarity matrix and the DataFrame to pickle files\n",
    "pickle.dump(similarity, open(\"similarity.pkl\", \"wb\"))\n",
    "pickle.dump(df, open(\"df.pkl\", \"wb\"))"
   ]
  }
 ],
 "metadata": {
  "kernelspec": {
   "display_name": "Python 3 (ipykernel)",
   "language": "python",
   "name": "python3"
  },
  "language_info": {
   "codemirror_mode": {
    "name": "ipython",
    "version": 3
   },
   "file_extension": ".py",
   "mimetype": "text/x-python",
   "name": "python",
   "nbconvert_exporter": "python",
   "pygments_lexer": "ipython3",
   "version": "3.9.7"
  }
 },
 "nbformat": 4,
 "nbformat_minor": 5
}
